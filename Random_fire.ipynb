{
  "nbformat": 4,
  "nbformat_minor": 0,
  "metadata": {
    "colab": {
      "name": "Random_fire",
      "provenance": [],
      "include_colab_link": true
    },
    "kernelspec": {
      "name": "python3",
      "display_name": "Python 3"
    }
  },
  "cells": [
    {
      "cell_type": "markdown",
      "metadata": {
        "id": "view-in-github",
        "colab_type": "text"
      },
      "source": [
        "<a href=\"https://colab.research.google.com/github/MelquiasRibeiro/Trasnformacao_visualizacao_de_dados/blob/master/Random_fire.ipynb\" target=\"_parent\"><img src=\"https://colab.research.google.com/assets/colab-badge.svg\" alt=\"Open In Colab\"/></a>"
      ]
    },
    {
      "cell_type": "code",
      "metadata": {
        "id": "eqV5iyVaFOpq",
        "colab_type": "code",
        "colab": {}
      },
      "source": [
        "#carregando as libs\n",
        "import numpy as np\n",
        "import pandas as pd\n",
        "import plotly.graph_objects as go\n",
        "import plotly.express as px\n",
        "import seaborn as sns\n",
        "import plotly.express as px\n",
        "import folium\n",
        "from folium import Choropleth, Circle, Marker\n",
        "from folium.plugins import HeatMap, MarkerCluster\n",
        "import matplotlib.pyplot as plt\n"
      ],
      "execution_count": 0,
      "outputs": []
    },
    {
      "cell_type": "code",
      "metadata": {
        "id": "oATs3DYrFctH",
        "colab_type": "code",
        "outputId": "7469f9d4-188d-4397-eb6a-370c02422d3e",
        "colab": {
          "base_uri": "https://localhost:8080/",
          "height": 127
        }
      },
      "source": [
        "from google.colab import drive\n",
        "\n",
        "drive.mount('/content/drive')"
      ],
      "execution_count": 0,
      "outputs": [
        {
          "output_type": "stream",
          "text": [
            "Go to this URL in a browser: https://accounts.google.com/o/oauth2/auth?client_id=947318989803-6bn6qk8qdgf4n4g3pfee6491hc0brc4i.apps.googleusercontent.com&redirect_uri=urn%3aietf%3awg%3aoauth%3a2.0%3aoob&response_type=code&scope=email%20https%3a%2f%2fwww.googleapis.com%2fauth%2fdocs.test%20https%3a%2f%2fwww.googleapis.com%2fauth%2fdrive%20https%3a%2f%2fwww.googleapis.com%2fauth%2fdrive.photos.readonly%20https%3a%2f%2fwww.googleapis.com%2fauth%2fpeopleapi.readonly\n",
            "\n",
            "Enter your authorization code:\n",
            "··········\n",
            "Mounted at /content/drive\n"
          ],
          "name": "stdout"
        }
      ]
    },
    {
      "cell_type": "code",
      "metadata": {
        "id": "fCI5n6R_Fllo",
        "colab_type": "code",
        "outputId": "b69896bb-06cb-4c9e-fdcf-2348b69ff897",
        "colab": {
          "base_uri": "https://localhost:8080/",
          "height": 359
        }
      },
      "source": [
        "#usando o  'read_csv' da pandas para carregar os dados\n",
        "amazon_df=pd.read_csv('/content/drive/My Drive/Colab Notebooks/amazon_O_Corrigido.csv', encoding='latin1')\n",
        "#Verificando se foi carregado corretamente(visualizando as 10 primieras linhas)\n",
        "amazon_df.head(10)\n"
      ],
      "execution_count": 0,
      "outputs": [
        {
          "output_type": "execute_result",
          "data": {
            "text/html": [
              "<div>\n",
              "<style scoped>\n",
              "    .dataframe tbody tr th:only-of-type {\n",
              "        vertical-align: middle;\n",
              "    }\n",
              "\n",
              "    .dataframe tbody tr th {\n",
              "        vertical-align: top;\n",
              "    }\n",
              "\n",
              "    .dataframe thead th {\n",
              "        text-align: right;\n",
              "    }\n",
              "</style>\n",
              "<table border=\"1\" class=\"dataframe\">\n",
              "  <thead>\n",
              "    <tr style=\"text-align: right;\">\n",
              "      <th></th>\n",
              "      <th>year</th>\n",
              "      <th>state</th>\n",
              "      <th>month</th>\n",
              "      <th>number</th>\n",
              "      <th>date</th>\n",
              "    </tr>\n",
              "  </thead>\n",
              "  <tbody>\n",
              "    <tr>\n",
              "      <th>0</th>\n",
              "      <td>1998</td>\n",
              "      <td>Acre</td>\n",
              "      <td>Janeiro</td>\n",
              "      <td>0.0</td>\n",
              "      <td>1998-01-01</td>\n",
              "    </tr>\n",
              "    <tr>\n",
              "      <th>1</th>\n",
              "      <td>1999</td>\n",
              "      <td>Acre</td>\n",
              "      <td>Janeiro</td>\n",
              "      <td>0.0</td>\n",
              "      <td>1999-01-01</td>\n",
              "    </tr>\n",
              "    <tr>\n",
              "      <th>2</th>\n",
              "      <td>2000</td>\n",
              "      <td>Acre</td>\n",
              "      <td>Janeiro</td>\n",
              "      <td>0.0</td>\n",
              "      <td>2000-01-01</td>\n",
              "    </tr>\n",
              "    <tr>\n",
              "      <th>3</th>\n",
              "      <td>2001</td>\n",
              "      <td>Acre</td>\n",
              "      <td>Janeiro</td>\n",
              "      <td>0.0</td>\n",
              "      <td>2001-01-01</td>\n",
              "    </tr>\n",
              "    <tr>\n",
              "      <th>4</th>\n",
              "      <td>2002</td>\n",
              "      <td>Acre</td>\n",
              "      <td>Janeiro</td>\n",
              "      <td>0.0</td>\n",
              "      <td>2002-01-01</td>\n",
              "    </tr>\n",
              "    <tr>\n",
              "      <th>5</th>\n",
              "      <td>2003</td>\n",
              "      <td>Acre</td>\n",
              "      <td>Janeiro</td>\n",
              "      <td>10.0</td>\n",
              "      <td>2003-01-01</td>\n",
              "    </tr>\n",
              "    <tr>\n",
              "      <th>6</th>\n",
              "      <td>2004</td>\n",
              "      <td>Acre</td>\n",
              "      <td>Janeiro</td>\n",
              "      <td>0.0</td>\n",
              "      <td>2004-01-01</td>\n",
              "    </tr>\n",
              "    <tr>\n",
              "      <th>7</th>\n",
              "      <td>2005</td>\n",
              "      <td>Acre</td>\n",
              "      <td>Janeiro</td>\n",
              "      <td>12.0</td>\n",
              "      <td>2005-01-01</td>\n",
              "    </tr>\n",
              "    <tr>\n",
              "      <th>8</th>\n",
              "      <td>2006</td>\n",
              "      <td>Acre</td>\n",
              "      <td>Janeiro</td>\n",
              "      <td>4.0</td>\n",
              "      <td>2006-01-01</td>\n",
              "    </tr>\n",
              "    <tr>\n",
              "      <th>9</th>\n",
              "      <td>2007</td>\n",
              "      <td>Acre</td>\n",
              "      <td>Janeiro</td>\n",
              "      <td>0.0</td>\n",
              "      <td>2007-01-01</td>\n",
              "    </tr>\n",
              "  </tbody>\n",
              "</table>\n",
              "</div>"
            ],
            "text/plain": [
              "   year state    month  number        date\n",
              "0  1998  Acre  Janeiro     0.0  1998-01-01\n",
              "1  1999  Acre  Janeiro     0.0  1999-01-01\n",
              "2  2000  Acre  Janeiro     0.0  2000-01-01\n",
              "3  2001  Acre  Janeiro     0.0  2001-01-01\n",
              "4  2002  Acre  Janeiro     0.0  2002-01-01\n",
              "5  2003  Acre  Janeiro    10.0  2003-01-01\n",
              "6  2004  Acre  Janeiro     0.0  2004-01-01\n",
              "7  2005  Acre  Janeiro    12.0  2005-01-01\n",
              "8  2006  Acre  Janeiro     4.0  2006-01-01\n",
              "9  2007  Acre  Janeiro     0.0  2007-01-01"
            ]
          },
          "metadata": {
            "tags": []
          },
          "execution_count": 3
        }
      ]
    },
    {
      "cell_type": "code",
      "metadata": {
        "id": "6MyliF2FF27Z",
        "colab_type": "code",
        "outputId": "11a7ca53-54f8-443e-bcaa-0ddaf7496c71",
        "colab": {
          "base_uri": "https://localhost:8080/",
          "height": 204
        }
      },
      "source": [
        "df=pd.DataFrame(amazon_df.number)\n",
        "df.head()"
      ],
      "execution_count": 0,
      "outputs": [
        {
          "output_type": "execute_result",
          "data": {
            "text/html": [
              "<div>\n",
              "<style scoped>\n",
              "    .dataframe tbody tr th:only-of-type {\n",
              "        vertical-align: middle;\n",
              "    }\n",
              "\n",
              "    .dataframe tbody tr th {\n",
              "        vertical-align: top;\n",
              "    }\n",
              "\n",
              "    .dataframe thead th {\n",
              "        text-align: right;\n",
              "    }\n",
              "</style>\n",
              "<table border=\"1\" class=\"dataframe\">\n",
              "  <thead>\n",
              "    <tr style=\"text-align: right;\">\n",
              "      <th></th>\n",
              "      <th>number</th>\n",
              "    </tr>\n",
              "  </thead>\n",
              "  <tbody>\n",
              "    <tr>\n",
              "      <th>0</th>\n",
              "      <td>0.0</td>\n",
              "    </tr>\n",
              "    <tr>\n",
              "      <th>1</th>\n",
              "      <td>0.0</td>\n",
              "    </tr>\n",
              "    <tr>\n",
              "      <th>2</th>\n",
              "      <td>0.0</td>\n",
              "    </tr>\n",
              "    <tr>\n",
              "      <th>3</th>\n",
              "      <td>0.0</td>\n",
              "    </tr>\n",
              "    <tr>\n",
              "      <th>4</th>\n",
              "      <td>0.0</td>\n",
              "    </tr>\n",
              "  </tbody>\n",
              "</table>\n",
              "</div>"
            ],
            "text/plain": [
              "   number\n",
              "0     0.0\n",
              "1     0.0\n",
              "2     0.0\n",
              "3     0.0\n",
              "4     0.0"
            ]
          },
          "metadata": {
            "tags": []
          },
          "execution_count": 4
        }
      ]
    },
    {
      "cell_type": "code",
      "metadata": {
        "id": "lUrryCLoGJQu",
        "colab_type": "code",
        "outputId": "bbe94ce3-165a-43e9-b7c0-1e71b648e162",
        "colab": {
          "base_uri": "https://localhost:8080/",
          "height": 204
        }
      },
      "source": [
        "df['state']= amazon_df.state\n",
        "df.head()"
      ],
      "execution_count": 0,
      "outputs": [
        {
          "output_type": "execute_result",
          "data": {
            "text/html": [
              "<div>\n",
              "<style scoped>\n",
              "    .dataframe tbody tr th:only-of-type {\n",
              "        vertical-align: middle;\n",
              "    }\n",
              "\n",
              "    .dataframe tbody tr th {\n",
              "        vertical-align: top;\n",
              "    }\n",
              "\n",
              "    .dataframe thead th {\n",
              "        text-align: right;\n",
              "    }\n",
              "</style>\n",
              "<table border=\"1\" class=\"dataframe\">\n",
              "  <thead>\n",
              "    <tr style=\"text-align: right;\">\n",
              "      <th></th>\n",
              "      <th>number</th>\n",
              "      <th>state</th>\n",
              "    </tr>\n",
              "  </thead>\n",
              "  <tbody>\n",
              "    <tr>\n",
              "      <th>0</th>\n",
              "      <td>0.0</td>\n",
              "      <td>Acre</td>\n",
              "    </tr>\n",
              "    <tr>\n",
              "      <th>1</th>\n",
              "      <td>0.0</td>\n",
              "      <td>Acre</td>\n",
              "    </tr>\n",
              "    <tr>\n",
              "      <th>2</th>\n",
              "      <td>0.0</td>\n",
              "      <td>Acre</td>\n",
              "    </tr>\n",
              "    <tr>\n",
              "      <th>3</th>\n",
              "      <td>0.0</td>\n",
              "      <td>Acre</td>\n",
              "    </tr>\n",
              "    <tr>\n",
              "      <th>4</th>\n",
              "      <td>0.0</td>\n",
              "      <td>Acre</td>\n",
              "    </tr>\n",
              "  </tbody>\n",
              "</table>\n",
              "</div>"
            ],
            "text/plain": [
              "   number state\n",
              "0     0.0  Acre\n",
              "1     0.0  Acre\n",
              "2     0.0  Acre\n",
              "3     0.0  Acre\n",
              "4     0.0  Acre"
            ]
          },
          "metadata": {
            "tags": []
          },
          "execution_count": 5
        }
      ]
    },
    {
      "cell_type": "code",
      "metadata": {
        "id": "7L1xboIqGX3j",
        "colab_type": "code",
        "colab": {}
      },
      "source": [
        "from sklearn.model_selection import train_test_split\n",
        "x_train, x_test, y_train, y_test= train_test_split(df.drop(['state'], axis='columns'),amazon_df.state,test_size=0.2)"
      ],
      "execution_count": 0,
      "outputs": []
    },
    {
      "cell_type": "code",
      "metadata": {
        "id": "5EXH7cNkG2o5",
        "colab_type": "code",
        "outputId": "ba0fc0b0-5c63-4eff-fc17-f8c31ee63487",
        "colab": {
          "base_uri": "https://localhost:8080/",
          "height": 35
        }
      },
      "source": [
        "len(x_train)"
      ],
      "execution_count": 0,
      "outputs": [
        {
          "output_type": "execute_result",
          "data": {
            "text/plain": [
              "5163"
            ]
          },
          "metadata": {
            "tags": []
          },
          "execution_count": 11
        }
      ]
    },
    {
      "cell_type": "code",
      "metadata": {
        "id": "1Y5e9fbBG_ep",
        "colab_type": "code",
        "outputId": "e3b324f1-ba53-47aa-8203-08856a425c2b",
        "colab": {
          "base_uri": "https://localhost:8080/",
          "height": 143
        }
      },
      "source": [
        "from sklearn.ensemble import RandomForestClassifier\n",
        "model = RandomForestClassifier(n_estimators=)\n",
        "model.fit(x_train,y_train)"
      ],
      "execution_count": 0,
      "outputs": [
        {
          "output_type": "execute_result",
          "data": {
            "text/plain": [
              "RandomForestClassifier(bootstrap=True, class_weight=None, criterion='gini',\n",
              "                       max_depth=None, max_features='auto', max_leaf_nodes=None,\n",
              "                       min_impurity_decrease=0.0, min_impurity_split=None,\n",
              "                       min_samples_leaf=1, min_samples_split=2,\n",
              "                       min_weight_fraction_leaf=0.0, n_estimators=100,\n",
              "                       n_jobs=None, oob_score=False, random_state=None,\n",
              "                       verbose=0, warm_start=False)"
            ]
          },
          "metadata": {
            "tags": []
          },
          "execution_count": 20
        }
      ]
    },
    {
      "cell_type": "code",
      "metadata": {
        "id": "6f5-jQHIG_Y1",
        "colab_type": "code",
        "outputId": "64c20625-ddf3-4ad1-f781-df83904c367e",
        "colab": {
          "base_uri": "https://localhost:8080/",
          "height": 35
        }
      },
      "source": [
        "model.score(x_test, y_test)"
      ],
      "execution_count": 0,
      "outputs": [
        {
          "output_type": "execute_result",
          "data": {
            "text/plain": [
              "0.09914794732765299"
            ]
          },
          "metadata": {
            "tags": []
          },
          "execution_count": 21
        }
      ]
    },
    {
      "cell_type": "code",
      "metadata": {
        "id": "kDPNO_G_HQw7",
        "colab_type": "code",
        "colab": {}
      },
      "source": [
        "y_predicted=model.predict(x_test)"
      ],
      "execution_count": 0,
      "outputs": []
    },
    {
      "cell_type": "code",
      "metadata": {
        "id": "u-BmKMhMHV7l",
        "colab_type": "code",
        "outputId": "e07c41e5-dc7b-4041-f247-471b6829948d",
        "colab": {
          "base_uri": "https://localhost:8080/",
          "height": 845
        }
      },
      "source": [
        "from sklearn.metrics import confusion_matrix\n",
        "cm= confusion_matrix(y_test, y_predicted)\n",
        "cm"
      ],
      "execution_count": 0,
      "outputs": [
        {
          "output_type": "execute_result",
          "data": {
            "text/plain": [
              "array([[ 0,  1,  0,  1,  1,  0, 27,  0,  1,  2,  3,  1,  2,  0,  1,  1,\n",
              "        15,  1,  1,  0,  0,  0,  0],\n",
              "       [ 0,  2,  0,  0,  0,  0, 11,  0,  0,  0,  0,  0,  3,  0,  0,  1,\n",
              "        26,  1,  1,  0,  0,  0,  0],\n",
              "       [ 0,  1,  0,  1,  0,  0, 21,  1,  1,  0,  1,  1,  4,  0,  1,  0,\n",
              "        19,  2,  0,  2,  0,  0,  0],\n",
              "       [ 1,  4,  0,  0,  2,  1,  4,  2,  3,  3,  1,  2,  6,  0,  0,  0,\n",
              "        14,  2,  3,  0,  0,  0,  3],\n",
              "       [ 0,  0,  0,  2,  2,  1,  0,  1,  6,  1,  9,  2,  4,  3,  2,  1,\n",
              "         7,  1,  3,  0,  5,  0,  2],\n",
              "       [ 0,  1,  0,  1,  1,  1, 12,  1,  0,  0,  6,  1,  5,  1,  0,  3,\n",
              "        14,  0,  1,  0,  1,  0,  2],\n",
              "       [ 0,  3,  0,  0,  0,  0, 17,  0,  1,  0,  1,  0,  1,  0,  0,  0,\n",
              "        12,  0,  0,  0,  1,  1,  0],\n",
              "       [ 0,  3,  0,  0,  0,  0,  7,  0,  1,  0,  2,  1,  8,  0,  0,  0,\n",
              "        31,  0,  2,  6,  1,  0,  0],\n",
              "       [ 0,  1,  0,  1,  3,  0,  1,  2,  0,  2,  6,  3,  3,  0,  0,  3,\n",
              "         6,  1,  3,  2,  4,  1,  3],\n",
              "       [ 1,  2,  0,  0,  3,  3,  1,  0,  4,  6,  4,  2,  5,  3,  0,  1,\n",
              "        10,  1,  0,  2,  1,  0,  3],\n",
              "       [ 1,  0,  0,  5,  3,  2,  2,  0,  6,  6, 19,  4,  5,  3,  0,  2,\n",
              "        10,  5,  1,  1,  7,  0,  3],\n",
              "       [ 0,  2,  2,  1,  4,  3,  1,  0,  0,  3,  3,  4,  8,  1,  2,  0,\n",
              "         8,  1,  4,  2,  2,  0,  0],\n",
              "       [ 0,  0,  4,  2,  0,  0, 13,  2,  6,  0,  3,  3, 13,  0,  1,  1,\n",
              "        25,  2,  4,  2,  3,  1,  2],\n",
              "       [ 0,  0,  0,  0,  2,  1,  3,  1,  1,  4,  5,  2,  3,  3,  1,  1,\n",
              "        17,  2,  1,  2,  1,  0,  2],\n",
              "       [ 1,  3,  1,  0,  3,  1,  2,  0,  0,  1,  5,  1,  1,  1,  3,  0,\n",
              "        22,  2,  0,  2,  0,  1,  1],\n",
              "       [ 2,  2,  2,  0,  3,  0,  2,  1,  5,  4,  2,  1,  3,  0,  0,  4,\n",
              "        11,  2,  0,  0,  1,  1,  1],\n",
              "       [ 0, 10,  0,  0,  2,  1, 22,  4,  2,  1,  4,  5, 14,  0,  1,  3,\n",
              "        53,  1,  2,  6,  6,  3,  0],\n",
              "       [ 0,  1,  0,  1,  0,  0,  4,  0,  1,  1,  7,  3,  3,  1,  1,  1,\n",
              "        23,  0,  1,  0,  0,  1,  2],\n",
              "       [ 1,  1,  0,  0,  0,  3,  3,  0,  1,  0,  3,  1,  3,  1,  0,  0,\n",
              "        20,  0,  0,  0,  0,  0,  1],\n",
              "       [ 0,  3,  0,  0,  2,  1,  4,  1,  1,  0,  3,  1,  2,  0,  0,  1,\n",
              "        16,  0,  0,  1,  0,  1,  0],\n",
              "       [ 0,  1,  1,  1,  1,  0,  1,  2,  4,  0,  5,  1,  5,  0,  0,  1,\n",
              "        10,  0,  0,  2,  1,  3,  1],\n",
              "       [ 0,  3,  0,  0,  0,  0, 21,  0,  0,  0,  0,  0,  2,  0,  1,  0,\n",
              "        16,  0,  0,  0,  2,  0,  0],\n",
              "       [ 1,  1,  0,  2,  1,  2,  2,  1,  1,  6,  3,  4,  5,  5,  1,  2,\n",
              "        13,  1,  1,  4,  2,  0,  1]])"
            ]
          },
          "metadata": {
            "tags": []
          },
          "execution_count": 16
        }
      ]
    },
    {
      "cell_type": "code",
      "metadata": {
        "id": "Uxa524BoHaon",
        "colab_type": "code",
        "outputId": "41e0d56e-740a-4ddc-faf5-58acfc24cd60",
        "colab": {
          "base_uri": "https://localhost:8080/",
          "height": 465
        }
      },
      "source": [
        "%matplotlib inline\n",
        "import matplotlib.pyplot as plt\n",
        "import seaborn as sn \n",
        "plt.figure(figsize=(10,7))\n",
        "sn.heatmap(cm, annot=True)\n",
        "plt.xlabel('predicted')\n",
        "plt.ylabel('truth')"
      ],
      "execution_count": 0,
      "outputs": [
        {
          "output_type": "execute_result",
          "data": {
            "text/plain": [
              "Text(69.0, 0.5, 'truth')"
            ]
          },
          "metadata": {
            "tags": []
          },
          "execution_count": 17
        },
        {
          "output_type": "display_data",
          "data": {
            "image/png": "[encoded data removed]",
            "text/plain": [
              "<Figure size 720x504 with 2 Axes>"
            ]
          },
          "metadata": {
            "tags": []
          }
        }
      ]
    }
  ]
}