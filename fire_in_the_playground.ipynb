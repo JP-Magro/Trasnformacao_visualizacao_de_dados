{
  "nbformat": 4,
  "nbformat_minor": 0,
  "metadata": {
    "colab": {
      "name": "fire in the playground",
      "provenance": [],
      "collapsed_sections": [],
      "include_colab_link": true
    },
    "kernelspec": {
      "name": "python3",
      "display_name": "Python 3"
    }
  },
  "cells": [
    {
      "cell_type": "markdown",
      "metadata": {
        "id": "view-in-github",
        "colab_type": "text"
      },
      "source": [
        "<a href=\"https://colab.research.google.com/github/MelquiasRibeiro/Trasnformacao_visualizacao_de_dados/blob/master/fire_in_the_playground.ipynb\" target=\"_parent\"><img src=\"https://colab.research.google.com/assets/colab-badge.svg\" alt=\"Open In Colab\"/></a>"
      ]
    },
    {
      "cell_type": "code",
      "metadata": {
        "id": "_2ZKF3W5Tp5H",
        "colab_type": "code",
        "colab": {}
      },
      "source": [
        "#carregando as libs\n",
        "import numpy as np\n",
        "import pandas as pd\n",
        "import plotly.graph_objects as go\n",
        "import plotly.express as px\n",
        "import seaborn as sns\n",
        "import plotly.express as px\n",
        "import folium\n",
        "from folium import Choropleth, Circle, Marker\n",
        "from folium.plugins import HeatMap, MarkerCluster\n",
        "import geopandas as gpd\n",
        "import matplotlib.pyplot as plt\n",
        "\n"
      ],
      "execution_count": 0,
      "outputs": []
    },
    {
      "cell_type": "markdown",
      "metadata": {
        "id": "zULA9AxXV9GB",
        "colab_type": "text"
      },
      "source": [
        ""
      ]
    },
    {
      "cell_type": "code",
      "metadata": {
        "id": "k6T9zZ4tYf6W",
        "colab_type": "code",
        "colab": {
          "base_uri": "https://localhost:8080/",
          "height": 359
        },
        "outputId": "89f6c21d-0d03-49f1-b34a-6911c43f9683"
      },
      "source": [
        "#usando o  'read_csv' da pandas para carregar os dados\n",
        "amazon_df=pd.read_csv('/content/drive/My Drive/Colab Notebooks/amazon_O_Corrigido.csv', encoding='latin1')\n",
        "#Verificando se foi carregado corretamente(visualizando as 10 primieras linhas)\n",
        "amazon_df.head(10)\n"
      ],
      "execution_count": 37,
      "outputs": [
        {
          "output_type": "execute_result",
          "data": {
            "text/html": [
              "<div>\n",
              "<style scoped>\n",
              "    .dataframe tbody tr th:only-of-type {\n",
              "        vertical-align: middle;\n",
              "    }\n",
              "\n",
              "    .dataframe tbody tr th {\n",
              "        vertical-align: top;\n",
              "    }\n",
              "\n",
              "    .dataframe thead th {\n",
              "        text-align: right;\n",
              "    }\n",
              "</style>\n",
              "<table border=\"1\" class=\"dataframe\">\n",
              "  <thead>\n",
              "    <tr style=\"text-align: right;\">\n",
              "      <th></th>\n",
              "      <th>year</th>\n",
              "      <th>state</th>\n",
              "      <th>month</th>\n",
              "      <th>number</th>\n",
              "      <th>date</th>\n",
              "    </tr>\n",
              "  </thead>\n",
              "  <tbody>\n",
              "    <tr>\n",
              "      <th>0</th>\n",
              "      <td>1998</td>\n",
              "      <td>Acre</td>\n",
              "      <td>Janeiro</td>\n",
              "      <td>0.0</td>\n",
              "      <td>1998-01-01</td>\n",
              "    </tr>\n",
              "    <tr>\n",
              "      <th>1</th>\n",
              "      <td>1999</td>\n",
              "      <td>Acre</td>\n",
              "      <td>Janeiro</td>\n",
              "      <td>0.0</td>\n",
              "      <td>1999-01-01</td>\n",
              "    </tr>\n",
              "    <tr>\n",
              "      <th>2</th>\n",
              "      <td>2000</td>\n",
              "      <td>Acre</td>\n",
              "      <td>Janeiro</td>\n",
              "      <td>0.0</td>\n",
              "      <td>2000-01-01</td>\n",
              "    </tr>\n",
              "    <tr>\n",
              "      <th>3</th>\n",
              "      <td>2001</td>\n",
              "      <td>Acre</td>\n",
              "      <td>Janeiro</td>\n",
              "      <td>0.0</td>\n",
              "      <td>2001-01-01</td>\n",
              "    </tr>\n",
              "    <tr>\n",
              "      <th>4</th>\n",
              "      <td>2002</td>\n",
              "      <td>Acre</td>\n",
              "      <td>Janeiro</td>\n",
              "      <td>0.0</td>\n",
              "      <td>2002-01-01</td>\n",
              "    </tr>\n",
              "    <tr>\n",
              "      <th>5</th>\n",
              "      <td>2003</td>\n",
              "      <td>Acre</td>\n",
              "      <td>Janeiro</td>\n",
              "      <td>10.0</td>\n",
              "      <td>2003-01-01</td>\n",
              "    </tr>\n",
              "    <tr>\n",
              "      <th>6</th>\n",
              "      <td>2004</td>\n",
              "      <td>Acre</td>\n",
              "      <td>Janeiro</td>\n",
              "      <td>0.0</td>\n",
              "      <td>2004-01-01</td>\n",
              "    </tr>\n",
              "    <tr>\n",
              "      <th>7</th>\n",
              "      <td>2005</td>\n",
              "      <td>Acre</td>\n",
              "      <td>Janeiro</td>\n",
              "      <td>12.0</td>\n",
              "      <td>2005-01-01</td>\n",
              "    </tr>\n",
              "    <tr>\n",
              "      <th>8</th>\n",
              "      <td>2006</td>\n",
              "      <td>Acre</td>\n",
              "      <td>Janeiro</td>\n",
              "      <td>4.0</td>\n",
              "      <td>2006-01-01</td>\n",
              "    </tr>\n",
              "    <tr>\n",
              "      <th>9</th>\n",
              "      <td>2007</td>\n",
              "      <td>Acre</td>\n",
              "      <td>Janeiro</td>\n",
              "      <td>0.0</td>\n",
              "      <td>2007-01-01</td>\n",
              "    </tr>\n",
              "  </tbody>\n",
              "</table>\n",
              "</div>"
            ],
            "text/plain": [
              "   year state    month  number        date\n",
              "0  1998  Acre  Janeiro     0.0  1998-01-01\n",
              "1  1999  Acre  Janeiro     0.0  1999-01-01\n",
              "2  2000  Acre  Janeiro     0.0  2000-01-01\n",
              "3  2001  Acre  Janeiro     0.0  2001-01-01\n",
              "4  2002  Acre  Janeiro     0.0  2002-01-01\n",
              "5  2003  Acre  Janeiro    10.0  2003-01-01\n",
              "6  2004  Acre  Janeiro     0.0  2004-01-01\n",
              "7  2005  Acre  Janeiro    12.0  2005-01-01\n",
              "8  2006  Acre  Janeiro     4.0  2006-01-01\n",
              "9  2007  Acre  Janeiro     0.0  2007-01-01"
            ]
          },
          "metadata": {
            "tags": []
          },
          "execution_count": 37
        }
      ]
    },
    {
      "cell_type": "code",
      "metadata": {
        "id": "CEJeVTzeZdT9",
        "colab_type": "code",
        "colab": {
          "base_uri": "https://localhost:8080/",
          "height": 35
        },
        "outputId": "68fe4023-00cf-4e80-b2b9-105bc679fb37"
      },
      "source": [
        "#confirindo o tamanho do dataFrame(max linhas)\n",
        "len(amazon_df)"
      ],
      "execution_count": 10,
      "outputs": [
        {
          "output_type": "execute_result",
          "data": {
            "text/plain": [
              "6454"
            ]
          },
          "metadata": {
            "tags": []
          },
          "execution_count": 10
        }
      ]
    },
    {
      "cell_type": "code",
      "metadata": {
        "id": "1VdsM_ZpZROT",
        "colab_type": "code",
        "colab": {
          "base_uri": "https://localhost:8080/",
          "height": 125
        },
        "outputId": "403dbecb-6ff3-495b-964e-5ac688b8872d"
      },
      "source": [
        "#verificando possiveis \"erros\"(linhas faltando ou valores nulos)  em cada uma das colunas \n",
        "amazon_df.isna().sum()"
      ],
      "execution_count": 11,
      "outputs": [
        {
          "output_type": "execute_result",
          "data": {
            "text/plain": [
              "year      0\n",
              "state     0\n",
              "month     0\n",
              "number    0\n",
              "date      0\n",
              "dtype: int64"
            ]
          },
          "metadata": {
            "tags": []
          },
          "execution_count": 11
        }
      ]
    },
    {
      "cell_type": "code",
      "metadata": {
        "id": "rTdQk5ZSaACJ",
        "colab_type": "code",
        "colab": {
          "base_uri": "https://localhost:8080/",
          "height": 107
        },
        "outputId": "d2d5df2f-62e3-4bed-9ba0-b53e72e22c27"
      },
      "source": [
        "#Verificando se temos valores unicos na coluna \"state\"\n",
        "amazon_df.state.unique()\n"
      ],
      "execution_count": 12,
      "outputs": [
        {
          "output_type": "execute_result",
          "data": {
            "text/plain": [
              "array(['Acre', 'Alagoas', 'Amapa', 'Amazonas', 'Bahia', 'Ceara',\n",
              "       'Distrito Federal', 'Espirito Santo', 'Goias', 'Maranhao',\n",
              "       'Mato Grosso', 'Minas Gerais', 'Pará', 'Paraiba', 'Pernambuco',\n",
              "       'Piau', 'Rio', 'Rondonia', 'Roraima', 'Santa Catarina',\n",
              "       'Sao Paulo', 'Sergipe', 'Tocantins'], dtype=object)"
            ]
          },
          "metadata": {
            "tags": []
          },
          "execution_count": 12
        }
      ]
    },
    {
      "cell_type": "code",
      "metadata": {
        "id": "rWgJ76akaa4q",
        "colab_type": "code",
        "colab": {
          "base_uri": "https://localhost:8080/",
          "height": 71
        },
        "outputId": "ae903a2a-f81b-41ef-f2a6-b4169a57b7eb"
      },
      "source": [
        "#Verificando se temos valores unicos na coluna \"month\"\n",
        "amazon_df.month.unique()\n"
      ],
      "execution_count": 13,
      "outputs": [
        {
          "output_type": "execute_result",
          "data": {
            "text/plain": [
              "array(['Janeiro', 'Fevereiro', 'Março', 'Abril', 'Maio', 'Junho', 'Julho',\n",
              "       'Agosto', 'Setembro', 'Outubro', 'Novembro', 'Dezembro'],\n",
              "      dtype=object)"
            ]
          },
          "metadata": {
            "tags": []
          },
          "execution_count": 13
        }
      ]
    },
    {
      "cell_type": "code",
      "metadata": {
        "id": "2GFfbTV7aovK",
        "colab_type": "code",
        "colab": {
          "base_uri": "https://localhost:8080/",
          "height": 179
        },
        "outputId": "79f1b687-9487-4784-95ba-c09878f35c3f"
      },
      "source": [
        "#analisando as estatisticas sobre os dados de incendios informados\n",
        "amazon_df.number.describe()"
      ],
      "execution_count": 14,
      "outputs": [
        {
          "output_type": "execute_result",
          "data": {
            "text/plain": [
              "count    6454.000000\n",
              "mean      108.293163\n",
              "std       190.812242\n",
              "min         0.000000\n",
              "25%         3.000000\n",
              "50%        24.000000\n",
              "75%       113.000000\n",
              "max       998.000000\n",
              "Name: number, dtype: float64"
            ]
          },
          "metadata": {
            "tags": []
          },
          "execution_count": 14
        }
      ]
    },
    {
      "cell_type": "code",
      "metadata": {
        "id": "2rxJKmYkbcMe",
        "colab_type": "code",
        "colab": {
          "base_uri": "https://localhost:8080/",
          "height": 35
        },
        "outputId": "3fa171dc-8c70-4ab9-c07a-d3d1f3e176d2"
      },
      "source": [
        "#numero de incendios reportados o periodo coletado\n",
        "amazon_df.number.sum()"
      ],
      "execution_count": 15,
      "outputs": [
        {
          "output_type": "execute_result",
          "data": {
            "text/plain": [
              "698924.073"
            ]
          },
          "metadata": {
            "tags": []
          },
          "execution_count": 15
        }
      ]
    },
    {
      "cell_type": "code",
      "metadata": {
        "id": "ElizoFJzbmYa",
        "colab_type": "code",
        "colab": {
          "base_uri": "https://localhost:8080/",
          "height": 204
        },
        "outputId": "eacf2ee8-05ad-461d-da84-7beeab46e804"
      },
      "source": [
        "#crinado uma coluna com os dados do tipo \"Date\" e Indexando os dados \n",
        "amazon_df['Year']=pd.DatetimeIndex(amazon_df['date']).year\n",
        "#verficando se funcionou \n",
        "amazon_df.Year.unique()"
      ],
      "execution_count": 17,
      "outputs": [
        {
          "output_type": "execute_result",
          "data": {
            "text/html": [
              "<div>\n",
              "<style scoped>\n",
              "    .dataframe tbody tr th:only-of-type {\n",
              "        vertical-align: middle;\n",
              "    }\n",
              "\n",
              "    .dataframe tbody tr th {\n",
              "        vertical-align: top;\n",
              "    }\n",
              "\n",
              "    .dataframe thead th {\n",
              "        text-align: right;\n",
              "    }\n",
              "</style>\n",
              "<table border=\"1\" class=\"dataframe\">\n",
              "  <thead>\n",
              "    <tr style=\"text-align: right;\">\n",
              "      <th></th>\n",
              "      <th>year</th>\n",
              "      <th>state</th>\n",
              "      <th>month</th>\n",
              "      <th>number</th>\n",
              "      <th>date</th>\n",
              "      <th>Year</th>\n",
              "    </tr>\n",
              "  </thead>\n",
              "  <tbody>\n",
              "    <tr>\n",
              "      <th>0</th>\n",
              "      <td>1998</td>\n",
              "      <td>Acre</td>\n",
              "      <td>Janeiro</td>\n",
              "      <td>0.0</td>\n",
              "      <td>1998-01-01</td>\n",
              "      <td>1998</td>\n",
              "    </tr>\n",
              "    <tr>\n",
              "      <th>1</th>\n",
              "      <td>1999</td>\n",
              "      <td>Acre</td>\n",
              "      <td>Janeiro</td>\n",
              "      <td>0.0</td>\n",
              "      <td>1999-01-01</td>\n",
              "      <td>1999</td>\n",
              "    </tr>\n",
              "    <tr>\n",
              "      <th>2</th>\n",
              "      <td>2000</td>\n",
              "      <td>Acre</td>\n",
              "      <td>Janeiro</td>\n",
              "      <td>0.0</td>\n",
              "      <td>2000-01-01</td>\n",
              "      <td>2000</td>\n",
              "    </tr>\n",
              "    <tr>\n",
              "      <th>3</th>\n",
              "      <td>2001</td>\n",
              "      <td>Acre</td>\n",
              "      <td>Janeiro</td>\n",
              "      <td>0.0</td>\n",
              "      <td>2001-01-01</td>\n",
              "      <td>2001</td>\n",
              "    </tr>\n",
              "    <tr>\n",
              "      <th>4</th>\n",
              "      <td>2002</td>\n",
              "      <td>Acre</td>\n",
              "      <td>Janeiro</td>\n",
              "      <td>0.0</td>\n",
              "      <td>2002-01-01</td>\n",
              "      <td>2002</td>\n",
              "    </tr>\n",
              "  </tbody>\n",
              "</table>\n",
              "</div>"
            ],
            "text/plain": [
              "   year state    month  number        date  Year\n",
              "0  1998  Acre  Janeiro     0.0  1998-01-01  1998\n",
              "1  1999  Acre  Janeiro     0.0  1999-01-01  1999\n",
              "2  2000  Acre  Janeiro     0.0  2000-01-01  2000\n",
              "3  2001  Acre  Janeiro     0.0  2001-01-01  2001\n",
              "4  2002  Acre  Janeiro     0.0  2002-01-01  2002"
            ]
          },
          "metadata": {
            "tags": []
          },
          "execution_count": 17
        }
      ]
    },
    {
      "cell_type": "code",
      "metadata": {
        "id": "lvcnaSVOcV2E",
        "colab_type": "code",
        "colab": {
          "base_uri": "https://localhost:8080/",
          "height": 204
        },
        "outputId": "5f3c677c-abf9-467e-ba6e-c01c733d481e"
      },
      "source": [
        "#excluindo a antiga coluna de Year\n",
        "amazon_df.drop(columns=['date', 'year'], axis=1, inplace=True)\n",
        "#reordenando as colunas do nosso dataframe\n",
        "amazon_df=amazon_df[['state','number','month','Year']]\n",
        "#mudado o nome das colunas do dataFrame\n",
        "amazon_df.rename(columns={'state': 'State', 'number': 'Fire_Number', 'month': 'Month'}, inplace=True)\n",
        "#verificando as mudanças\n",
        "amazon_df.head()"
      ],
      "execution_count": 18,
      "outputs": [
        {
          "output_type": "execute_result",
          "data": {
            "text/html": [
              "<div>\n",
              "<style scoped>\n",
              "    .dataframe tbody tr th:only-of-type {\n",
              "        vertical-align: middle;\n",
              "    }\n",
              "\n",
              "    .dataframe tbody tr th {\n",
              "        vertical-align: top;\n",
              "    }\n",
              "\n",
              "    .dataframe thead th {\n",
              "        text-align: right;\n",
              "    }\n",
              "</style>\n",
              "<table border=\"1\" class=\"dataframe\">\n",
              "  <thead>\n",
              "    <tr style=\"text-align: right;\">\n",
              "      <th></th>\n",
              "      <th>State</th>\n",
              "      <th>Fire_Number</th>\n",
              "      <th>Month</th>\n",
              "      <th>Year</th>\n",
              "    </tr>\n",
              "  </thead>\n",
              "  <tbody>\n",
              "    <tr>\n",
              "      <th>0</th>\n",
              "      <td>Acre</td>\n",
              "      <td>0.0</td>\n",
              "      <td>Janeiro</td>\n",
              "      <td>1998</td>\n",
              "    </tr>\n",
              "    <tr>\n",
              "      <th>1</th>\n",
              "      <td>Acre</td>\n",
              "      <td>0.0</td>\n",
              "      <td>Janeiro</td>\n",
              "      <td>1999</td>\n",
              "    </tr>\n",
              "    <tr>\n",
              "      <th>2</th>\n",
              "      <td>Acre</td>\n",
              "      <td>0.0</td>\n",
              "      <td>Janeiro</td>\n",
              "      <td>2000</td>\n",
              "    </tr>\n",
              "    <tr>\n",
              "      <th>3</th>\n",
              "      <td>Acre</td>\n",
              "      <td>0.0</td>\n",
              "      <td>Janeiro</td>\n",
              "      <td>2001</td>\n",
              "    </tr>\n",
              "    <tr>\n",
              "      <th>4</th>\n",
              "      <td>Acre</td>\n",
              "      <td>0.0</td>\n",
              "      <td>Janeiro</td>\n",
              "      <td>2002</td>\n",
              "    </tr>\n",
              "  </tbody>\n",
              "</table>\n",
              "</div>"
            ],
            "text/plain": [
              "  State  Fire_Number    Month  Year\n",
              "0  Acre          0.0  Janeiro  1998\n",
              "1  Acre          0.0  Janeiro  1999\n",
              "2  Acre          0.0  Janeiro  2000\n",
              "3  Acre          0.0  Janeiro  2001\n",
              "4  Acre          0.0  Janeiro  2002"
            ]
          },
          "metadata": {
            "tags": []
          },
          "execution_count": 18
        }
      ]
    },
    {
      "cell_type": "code",
      "metadata": {
        "id": "Cf8mOAV1dLnD",
        "colab_type": "code",
        "colab": {
          "base_uri": "https://localhost:8080/",
          "height": 204
        },
        "outputId": "c253a297-a362-4aed-c83c-a1a364fadfa7"
      },
      "source": [
        "#ciando uma lista de anos com os anos disponiveis no dataFrame \n",
        "years=list(amazon_df.Year.unique())\n",
        "#crinado uma lista que ser preenchida com os dados dos reports de incendio\n",
        "sub_fires_per_year=[]\n",
        "#populando a lista com os dados\n",
        "for i in years:\n",
        "    y=amazon_df.loc[amazon_df['Year']==i].Fire_Number.sum().round(0)\n",
        "    sub_fires_per_year.append(y)\n",
        "#relacionando os dados com um dicionario\n",
        "fire_year_dic={'Year':years,'Total_Fires':sub_fires_per_year}\n",
        "#organizando os dados em um  novo dataFrame para plotar um grafico de ReportsXAno\n",
        "time_plot_1_df=pd.DataFrame(fire_year_dic)\n",
        "#Verificando o daframe\n",
        "time_plot_1_df.head(5)"
      ],
      "execution_count": 19,
      "outputs": [
        {
          "output_type": "execute_result",
          "data": {
            "text/html": [
              "<div>\n",
              "<style scoped>\n",
              "    .dataframe tbody tr th:only-of-type {\n",
              "        vertical-align: middle;\n",
              "    }\n",
              "\n",
              "    .dataframe tbody tr th {\n",
              "        vertical-align: top;\n",
              "    }\n",
              "\n",
              "    .dataframe thead th {\n",
              "        text-align: right;\n",
              "    }\n",
              "</style>\n",
              "<table border=\"1\" class=\"dataframe\">\n",
              "  <thead>\n",
              "    <tr style=\"text-align: right;\">\n",
              "      <th></th>\n",
              "      <th>Year</th>\n",
              "      <th>Total_Fires</th>\n",
              "    </tr>\n",
              "  </thead>\n",
              "  <tbody>\n",
              "    <tr>\n",
              "      <th>0</th>\n",
              "      <td>1998</td>\n",
              "      <td>20014.0</td>\n",
              "    </tr>\n",
              "    <tr>\n",
              "      <th>1</th>\n",
              "      <td>1999</td>\n",
              "      <td>26883.0</td>\n",
              "    </tr>\n",
              "    <tr>\n",
              "      <th>2</th>\n",
              "      <td>2000</td>\n",
              "      <td>27351.0</td>\n",
              "    </tr>\n",
              "    <tr>\n",
              "      <th>3</th>\n",
              "      <td>2001</td>\n",
              "      <td>29072.0</td>\n",
              "    </tr>\n",
              "    <tr>\n",
              "      <th>4</th>\n",
              "      <td>2002</td>\n",
              "      <td>37391.0</td>\n",
              "    </tr>\n",
              "  </tbody>\n",
              "</table>\n",
              "</div>"
            ],
            "text/plain": [
              "   Year  Total_Fires\n",
              "0  1998      20014.0\n",
              "1  1999      26883.0\n",
              "2  2000      27351.0\n",
              "3  2001      29072.0\n",
              "4  2002      37391.0"
            ]
          },
          "metadata": {
            "tags": []
          },
          "execution_count": 19
        }
      ]
    },
    {
      "cell_type": "code",
      "metadata": {
        "id": "_DWI1LQ0el10",
        "colab_type": "code",
        "colab": {
          "base_uri": "https://localhost:8080/",
          "height": 542
        },
        "outputId": "216f1788-c397-4c42-bf68-85c716b340ea"
      },
      "source": [
        "#usando a biblioteca \"plotly Scatter \" para plotar nosso grafico\n",
        "time_plot_1=go.Figure(go.Scatter(x=time_plot_1_df.Year, y=time_plot_1_df.Total_Fires,\n",
        "                                 mode='lines+markers', line={'color': 'red'}))\n",
        "#definiçoes de titulo e \"legenda\" dos eixos\n",
        "time_plot_1.update_layout(title='Incendios flosrestais no Brasil reportados entre 1998 e 2017 ',\n",
        "                   xaxis_title='Anos',\n",
        "                   yaxis_title='Incendios reportados')\n",
        "#exibindo o gráfico\n",
        "time_plot_1.show()"
      ],
      "execution_count": 20,
      "outputs": [
        {
          "output_type": "display_data",
          "data": {
            "text/html": [
              "<html>\n",
              "<head><meta charset=\"utf-8\" /></head>\n",
              "<body>\n",
              "    <div>\n",
              "            <script src=\"https://cdnjs.cloudflare.com/ajax/libs/mathjax/2.7.5/MathJax.js?config=TeX-AMS-MML_SVG\"></script><script type=\"text/javascript\">if (window.MathJax) {MathJax.Hub.Config({SVG: {font: \"STIX-Web\"}});}</script>\n",
              "                <script type=\"text/javascript\">window.PlotlyConfig = {MathJaxConfig: 'local'};</script>\n",
              "        <script src=\"https://cdn.plot.ly/plotly-latest.min.js\"></script>    \n",
              "            <div id=\"89505e7f-24c9-4c29-b7df-9a412b227658\" class=\"plotly-graph-div\" style=\"height:525px; width:100%;\"></div>\n",
              "            <script type=\"text/javascript\">\n",
              "                \n",
              "                    window.PLOTLYENV=window.PLOTLYENV || {};\n",
              "                    \n",
              "                if (document.getElementById(\"89505e7f-24c9-4c29-b7df-9a412b227658\")) {\n",
              "                    Plotly.newPlot(\n",
              "                        '89505e7f-24c9-4c29-b7df-9a412b227658',\n",
              "                        [{\"line\": {\"color\": \"red\"}, \"mode\": \"lines+markers\", \"type\": \"scatter\", \"x\": [1998, 1999, 2000, 2001, 2002, 2003, 2004, 2005, 2006, 2007, 2008, 2009, 2010, 2011, 2012, 2013, 2014, 2015, 2016, 2017], \"y\": [20014.0, 26883.0, 27351.0, 29072.0, 37391.0, 42761.0, 38453.0, 35005.0, 33832.0, 33037.0, 29379.0, 39117.0, 37037.0, 34634.0, 40085.0, 35146.0, 39621.0, 41208.0, 42212.0, 36686.0]}],\n",
              "                        {\"template\": {\"data\": {\"bar\": [{\"error_x\": {\"color\": \"#2a3f5f\"}, \"error_y\": {\"color\": \"#2a3f5f\"}, \"marker\": {\"line\": {\"color\": \"#E5ECF6\", \"width\": 0.5}}, \"type\": \"bar\"}], \"barpolar\": [{\"marker\": {\"line\": {\"color\": \"#E5ECF6\", \"width\": 0.5}}, \"type\": \"barpolar\"}], \"carpet\": [{\"aaxis\": {\"endlinecolor\": \"#2a3f5f\", \"gridcolor\": \"white\", \"linecolor\": \"white\", \"minorgridcolor\": \"white\", \"startlinecolor\": \"#2a3f5f\"}, \"baxis\": {\"endlinecolor\": \"#2a3f5f\", \"gridcolor\": \"white\", \"linecolor\": \"white\", \"minorgridcolor\": \"white\", \"startlinecolor\": \"#2a3f5f\"}, \"type\": \"carpet\"}], \"choropleth\": [{\"colorbar\": {\"outlinewidth\": 0, \"ticks\": \"\"}, \"type\": \"choropleth\"}], \"contour\": [{\"colorbar\": {\"outlinewidth\": 0, \"ticks\": \"\"}, \"colorscale\": [[0.0, \"#0d0887\"], [0.1111111111111111, \"#46039f\"], [0.2222222222222222, \"#7201a8\"], [0.3333333333333333, \"#9c179e\"], [0.4444444444444444, \"#bd3786\"], [0.5555555555555556, \"#d8576b\"], [0.6666666666666666, \"#ed7953\"], [0.7777777777777778, \"#fb9f3a\"], [0.8888888888888888, \"#fdca26\"], [1.0, \"#f0f921\"]], \"type\": \"contour\"}], \"contourcarpet\": [{\"colorbar\": {\"outlinewidth\": 0, \"ticks\": \"\"}, \"type\": \"contourcarpet\"}], \"heatmap\": [{\"colorbar\": {\"outlinewidth\": 0, \"ticks\": \"\"}, \"colorscale\": [[0.0, \"#0d0887\"], [0.1111111111111111, \"#46039f\"], [0.2222222222222222, \"#7201a8\"], [0.3333333333333333, \"#9c179e\"], [0.4444444444444444, \"#bd3786\"], [0.5555555555555556, \"#d8576b\"], [0.6666666666666666, \"#ed7953\"], [0.7777777777777778, \"#fb9f3a\"], [0.8888888888888888, \"#fdca26\"], [1.0, \"#f0f921\"]], \"type\": \"heatmap\"}], \"heatmapgl\": [{\"colorbar\": {\"outlinewidth\": 0, \"ticks\": \"\"}, \"colorscale\": [[0.0, \"#0d0887\"], [0.1111111111111111, \"#46039f\"], [0.2222222222222222, \"#7201a8\"], [0.3333333333333333, \"#9c179e\"], [0.4444444444444444, \"#bd3786\"], [0.5555555555555556, \"#d8576b\"], [0.6666666666666666, \"#ed7953\"], [0.7777777777777778, \"#fb9f3a\"], [0.8888888888888888, \"#fdca26\"], [1.0, \"#f0f921\"]], \"type\": \"heatmapgl\"}], \"histogram\": [{\"marker\": {\"colorbar\": {\"outlinewidth\": 0, \"ticks\": \"\"}}, \"type\": \"histogram\"}], \"histogram2d\": [{\"colorbar\": {\"outlinewidth\": 0, \"ticks\": \"\"}, \"colorscale\": [[0.0, \"#0d0887\"], [0.1111111111111111, \"#46039f\"], [0.2222222222222222, \"#7201a8\"], [0.3333333333333333, \"#9c179e\"], [0.4444444444444444, \"#bd3786\"], [0.5555555555555556, \"#d8576b\"], [0.6666666666666666, \"#ed7953\"], [0.7777777777777778, \"#fb9f3a\"], [0.8888888888888888, \"#fdca26\"], [1.0, \"#f0f921\"]], \"type\": \"histogram2d\"}], \"histogram2dcontour\": [{\"colorbar\": {\"outlinewidth\": 0, \"ticks\": \"\"}, \"colorscale\": [[0.0, \"#0d0887\"], [0.1111111111111111, \"#46039f\"], [0.2222222222222222, \"#7201a8\"], [0.3333333333333333, \"#9c179e\"], [0.4444444444444444, \"#bd3786\"], [0.5555555555555556, \"#d8576b\"], [0.6666666666666666, \"#ed7953\"], [0.7777777777777778, \"#fb9f3a\"], [0.8888888888888888, \"#fdca26\"], [1.0, \"#f0f921\"]], \"type\": \"histogram2dcontour\"}], \"mesh3d\": [{\"colorbar\": {\"outlinewidth\": 0, \"ticks\": \"\"}, \"type\": \"mesh3d\"}], \"parcoords\": [{\"line\": {\"colorbar\": {\"outlinewidth\": 0, \"ticks\": \"\"}}, \"type\": \"parcoords\"}], \"scatter\": [{\"marker\": {\"colorbar\": {\"outlinewidth\": 0, \"ticks\": \"\"}}, \"type\": \"scatter\"}], \"scatter3d\": [{\"line\": {\"colorbar\": {\"outlinewidth\": 0, \"ticks\": \"\"}}, \"marker\": {\"colorbar\": {\"outlinewidth\": 0, \"ticks\": \"\"}}, \"type\": \"scatter3d\"}], \"scattercarpet\": [{\"marker\": {\"colorbar\": {\"outlinewidth\": 0, \"ticks\": \"\"}}, \"type\": \"scattercarpet\"}], \"scattergeo\": [{\"marker\": {\"colorbar\": {\"outlinewidth\": 0, \"ticks\": \"\"}}, \"type\": \"scattergeo\"}], \"scattergl\": [{\"marker\": {\"colorbar\": {\"outlinewidth\": 0, \"ticks\": \"\"}}, \"type\": \"scattergl\"}], \"scattermapbox\": [{\"marker\": {\"colorbar\": {\"outlinewidth\": 0, \"ticks\": \"\"}}, \"type\": \"scattermapbox\"}], \"scatterpolar\": [{\"marker\": {\"colorbar\": {\"outlinewidth\": 0, \"ticks\": \"\"}}, \"type\": \"scatterpolar\"}], \"scatterpolargl\": [{\"marker\": {\"colorbar\": {\"outlinewidth\": 0, \"ticks\": \"\"}}, \"type\": \"scatterpolargl\"}], \"scatterternary\": [{\"marker\": {\"colorbar\": {\"outlinewidth\": 0, \"ticks\": \"\"}}, \"type\": \"scatterternary\"}], \"surface\": [{\"colorbar\": {\"outlinewidth\": 0, \"ticks\": \"\"}, \"colorscale\": [[0.0, \"#0d0887\"], [0.1111111111111111, \"#46039f\"], [0.2222222222222222, \"#7201a8\"], [0.3333333333333333, \"#9c179e\"], [0.4444444444444444, \"#bd3786\"], [0.5555555555555556, \"#d8576b\"], [0.6666666666666666, \"#ed7953\"], [0.7777777777777778, \"#fb9f3a\"], [0.8888888888888888, \"#fdca26\"], [1.0, \"#f0f921\"]], \"type\": \"surface\"}], \"table\": [{\"cells\": {\"fill\": {\"color\": \"#EBF0F8\"}, \"line\": {\"color\": \"white\"}}, \"header\": {\"fill\": {\"color\": \"#C8D4E3\"}, \"line\": {\"color\": \"white\"}}, \"type\": \"table\"}]}, \"layout\": {\"annotationdefaults\": {\"arrowcolor\": \"#2a3f5f\", \"arrowhead\": 0, \"arrowwidth\": 1}, \"colorscale\": {\"diverging\": [[0, \"#8e0152\"], [0.1, \"#c51b7d\"], [0.2, \"#de77ae\"], [0.3, \"#f1b6da\"], [0.4, \"#fde0ef\"], [0.5, \"#f7f7f7\"], [0.6, \"#e6f5d0\"], [0.7, \"#b8e186\"], [0.8, \"#7fbc41\"], [0.9, \"#4d9221\"], [1, \"#276419\"]], \"sequential\": [[0.0, \"#0d0887\"], [0.1111111111111111, \"#46039f\"], [0.2222222222222222, \"#7201a8\"], [0.3333333333333333, \"#9c179e\"], [0.4444444444444444, \"#bd3786\"], [0.5555555555555556, \"#d8576b\"], [0.6666666666666666, \"#ed7953\"], [0.7777777777777778, \"#fb9f3a\"], [0.8888888888888888, \"#fdca26\"], [1.0, \"#f0f921\"]], \"sequentialminus\": [[0.0, \"#0d0887\"], [0.1111111111111111, \"#46039f\"], [0.2222222222222222, \"#7201a8\"], [0.3333333333333333, \"#9c179e\"], [0.4444444444444444, \"#bd3786\"], [0.5555555555555556, \"#d8576b\"], [0.6666666666666666, \"#ed7953\"], [0.7777777777777778, \"#fb9f3a\"], [0.8888888888888888, \"#fdca26\"], [1.0, \"#f0f921\"]]}, \"colorway\": [\"#636efa\", \"#EF553B\", \"#00cc96\", \"#ab63fa\", \"#FFA15A\", \"#19d3f3\", \"#FF6692\", \"#B6E880\", \"#FF97FF\", \"#FECB52\"], \"font\": {\"color\": \"#2a3f5f\"}, \"geo\": {\"bgcolor\": \"white\", \"lakecolor\": \"white\", \"landcolor\": \"#E5ECF6\", \"showlakes\": true, \"showland\": true, \"subunitcolor\": \"white\"}, \"hoverlabel\": {\"align\": \"left\"}, \"hovermode\": \"closest\", \"mapbox\": {\"style\": \"light\"}, \"paper_bgcolor\": \"white\", \"plot_bgcolor\": \"#E5ECF6\", \"polar\": {\"angularaxis\": {\"gridcolor\": \"white\", \"linecolor\": \"white\", \"ticks\": \"\"}, \"bgcolor\": \"#E5ECF6\", \"radialaxis\": {\"gridcolor\": \"white\", \"linecolor\": \"white\", \"ticks\": \"\"}}, \"scene\": {\"xaxis\": {\"backgroundcolor\": \"#E5ECF6\", \"gridcolor\": \"white\", \"gridwidth\": 2, \"linecolor\": \"white\", \"showbackground\": true, \"ticks\": \"\", \"zerolinecolor\": \"white\"}, \"yaxis\": {\"backgroundcolor\": \"#E5ECF6\", \"gridcolor\": \"white\", \"gridwidth\": 2, \"linecolor\": \"white\", \"showbackground\": true, \"ticks\": \"\", \"zerolinecolor\": \"white\"}, \"zaxis\": {\"backgroundcolor\": \"#E5ECF6\", \"gridcolor\": \"white\", \"gridwidth\": 2, \"linecolor\": \"white\", \"showbackground\": true, \"ticks\": \"\", \"zerolinecolor\": \"white\"}}, \"shapedefaults\": {\"line\": {\"color\": \"#2a3f5f\"}}, \"ternary\": {\"aaxis\": {\"gridcolor\": \"white\", \"linecolor\": \"white\", \"ticks\": \"\"}, \"baxis\": {\"gridcolor\": \"white\", \"linecolor\": \"white\", \"ticks\": \"\"}, \"bgcolor\": \"#E5ECF6\", \"caxis\": {\"gridcolor\": \"white\", \"linecolor\": \"white\", \"ticks\": \"\"}}, \"title\": {\"x\": 0.05}, \"xaxis\": {\"automargin\": true, \"gridcolor\": \"white\", \"linecolor\": \"white\", \"ticks\": \"\", \"zerolinecolor\": \"white\", \"zerolinewidth\": 2}, \"yaxis\": {\"automargin\": true, \"gridcolor\": \"white\", \"linecolor\": \"white\", \"ticks\": \"\", \"zerolinecolor\": \"white\", \"zerolinewidth\": 2}}}, \"title\": {\"text\": \"Incendios flosrestais no Brasil reportados entre 1998 e 2017 \"}, \"xaxis\": {\"title\": {\"text\": \"Anos\"}}, \"yaxis\": {\"title\": {\"text\": \"Incendios reportados\"}}},\n",
              "                        {\"responsive\": true}\n",
              "                    ).then(function(){\n",
              "                            \n",
              "var gd = document.getElementById('89505e7f-24c9-4c29-b7df-9a412b227658');\n",
              "var x = new MutationObserver(function (mutations, observer) {{\n",
              "        var display = window.getComputedStyle(gd).display;\n",
              "        if (!display || display === 'none') {{\n",
              "            console.log([gd, 'removed!']);\n",
              "            Plotly.purge(gd);\n",
              "            observer.disconnect();\n",
              "        }}\n",
              "}});\n",
              "\n",
              "// Listen for the removal of the full notebook cells\n",
              "var notebookContainer = gd.closest('#notebook-container');\n",
              "if (notebookContainer) {{\n",
              "    x.observe(notebookContainer, {childList: true});\n",
              "}}\n",
              "\n",
              "// Listen for the clearing of the current output cell\n",
              "var outputEl = gd.closest('.output');\n",
              "if (outputEl) {{\n",
              "    x.observe(outputEl, {childList: true});\n",
              "}}\n",
              "\n",
              "                        })\n",
              "                };\n",
              "                \n",
              "            </script>\n",
              "        </div>\n",
              "</body>\n",
              "</html>"
            ]
          },
          "metadata": {
            "tags": []
          }
        }
      ]
    },
    {
      "cell_type": "code",
      "metadata": {
        "id": "xzYdfM_FgcFK",
        "colab_type": "code",
        "colab": {}
      },
      "source": [
        "#crinado uma lista com estados do DataFreme\n",
        "states=list(amazon_df.State.unique())\n",
        "#criando uma lista para cada estado\n",
        "acre_list=[]\n",
        "alagoas_list=[] \n",
        "amapa_list=[] \n",
        "amazonas_list=[] \n",
        "bahia_list=[] \n",
        "ceara_list=[]\n",
        "distrito_list=[] \n",
        "espirito_list=[] \n",
        "goias_list=[] \n",
        "maranhao_list=[] \n",
        "mato_list=[] \n",
        "minas_list=[]\n",
        "para_list=[] \n",
        "paraiba_list=[] \n",
        "perna_list=[]\n",
        "piau_list=[]\n",
        "rio_list=[]\n",
        "rondonia_list=[]\n",
        "roraima_list=[]\n",
        "santa_list=[]\n",
        "sao_list=[]\n",
        "sergipe_list=[]\n",
        "tocantins_list=[]\n"
      ],
      "execution_count": 0,
      "outputs": []
    },
    {
      "cell_type": "code",
      "metadata": {
        "id": "H_nWv9-UhadK",
        "colab_type": "code",
        "colab": {}
      },
      "source": [
        "#adcionando os dados nas lista dos estados\n",
        "for x in states:\n",
        "    st=x\n",
        "    for i in years:\n",
        "        ye=i\n",
        "        if st=='Acre':\n",
        "            y=amazon_df.loc[(amazon_df['State']== st) & (amazon_df['Year']== ye)].Fire_Number.sum().round(0)\n",
        "            acre_list.append(y)\n",
        "        elif st=='Alagoas':\n",
        "            y=amazon_df.loc[(amazon_df['State']== st) & (amazon_df['Year']== ye)].Fire_Number.sum().round(0)\n",
        "            alagoas_list.append(y)\n",
        "        elif st=='Amazonas':\n",
        "            y=amazon_df.loc[(amazon_df['State']== st) & (amazon_df['Year']== ye)].Fire_Number.sum().round(0)\n",
        "            amazonas_list.append(y)\n",
        "        elif st=='Amapa':\n",
        "            y=amazon_df.loc[(amazon_df['State']== st) & (amazon_df['Year']== ye)].Fire_Number.sum().round(0)\n",
        "            amapa_list.append(y)\n",
        "        elif st=='Bahia':\n",
        "            y=amazon_df.loc[(amazon_df['State']== st) & (amazon_df['Year']== ye)].Fire_Number.sum().round(0)\n",
        "            bahia_list.append(y)\n",
        "        elif st=='Ceara':\n",
        "            y=amazon_df.loc[(amazon_df['State']== st) & (amazon_df['Year']== ye)].Fire_Number.sum().round(0)\n",
        "            ceara_list.append(y)\n",
        "        elif st=='Distrito Federal':\n",
        "            y=amazon_df.loc[(amazon_df['State']== st) & (amazon_df['Year']== ye)].Fire_Number.sum().round(0)\n",
        "            distrito_list.append(y)\n",
        "        elif st=='Espirito Santo':\n",
        "            y=amazon_df.loc[(amazon_df['State']== st) & (amazon_df['Year']== ye)].Fire_Number.sum().round(0)\n",
        "            espirito_list.append(y)\n",
        "        elif st=='Goias':\n",
        "            y=amazon_df.loc[(amazon_df['State']== st) & (amazon_df['Year']== ye)].Fire_Number.sum().round(0)\n",
        "            goias_list.append(y)\n",
        "        elif st=='Maranhao':\n",
        "            y=amazon_df.loc[(amazon_df['State']== st) & (amazon_df['Year']== ye)].Fire_Number.sum().round(0)\n",
        "            maranhao_list.append(y)\n",
        "        elif st=='Mato Grosso':\n",
        "            y=amazon_df.loc[(amazon_df['State']== st) & (amazon_df['Year']== ye)].Fire_Number.sum().round(0)\n",
        "            mato_list.append(y)\n",
        "        elif st=='Minas Gerais':\n",
        "            y=amazon_df.loc[(amazon_df['State']== st) & (amazon_df['Year']== ye)].Fire_Number.sum().round(0)\n",
        "            minas_list.append(y)\n",
        "        elif st=='Pará':\n",
        "            y=amazon_df.loc[(amazon_df['State']== st) & (amazon_df['Year']== ye)].Fire_Number.sum().round(0)\n",
        "            para_list.append(y)\n",
        "        elif st=='Paraiba':\n",
        "            y=amazon_df.loc[(amazon_df['State']== st) & (amazon_df['Year']== ye)].Fire_Number.sum().round(0)\n",
        "            paraiba_list.append(y)\n",
        "        elif st=='Pernambuco':\n",
        "            y=amazon_df.loc[(amazon_df['State']== st) & (amazon_df['Year']== ye)].Fire_Number.sum().round(0)\n",
        "            perna_list.append(y)\n",
        "        elif st=='Piau':\n",
        "            y=amazon_df.loc[(amazon_df['State']== st) & (amazon_df['Year']== ye)].Fire_Number.sum().round(0)\n",
        "            piau_list.append(y)\n",
        "        elif st=='Rio':\n",
        "            y=amazon_df.loc[(amazon_df['State']== st) & (amazon_df['Year']== ye)].Fire_Number.sum().round(0)\n",
        "            rio_list.append(y)\n",
        "        elif st=='Rondonia':\n",
        "            y=amazon_df.loc[(amazon_df['State']== st) & (amazon_df['Year']== ye)].Fire_Number.sum().round(0)\n",
        "            rondonia_list.append(y)\n",
        "        elif st=='Roraima':\n",
        "            y=amazon_df.loc[(amazon_df['State']== st) & (amazon_df['Year']== ye)].Fire_Number.sum().round(0)\n",
        "            roraima_list.append(y)\n",
        "        elif st=='Santa Catarina':\n",
        "            y=amazon_df.loc[(amazon_df['State']== st) & (amazon_df['Year']== ye)].Fire_Number.sum().round(0)\n",
        "            santa_list.append(y)\n",
        "        elif st=='Sao Paulo':\n",
        "            y=amazon_df.loc[(amazon_df['State']== st) & (amazon_df['Year']== ye)].Fire_Number.sum().round(0)\n",
        "            sao_list.append(y)\n",
        "        elif st=='Sergipe':\n",
        "            y=amazon_df.loc[(amazon_df['State']== st) & (amazon_df['Year']== ye)].Fire_Number.sum().round(0)\n",
        "            sergipe_list.append(y)\n",
        "        elif st=='Tocantins':\n",
        "            y=amazon_df.loc[(amazon_df['State']== st) & (amazon_df['Year']== ye)].Fire_Number.sum().round(0)\n",
        "            tocantins_list.append(y)"
      ],
      "execution_count": 0,
      "outputs": []
    },
    {
      "cell_type": "code",
      "metadata": {
        "id": "4VEGYlgmhli6",
        "colab_type": "code",
        "colab": {
          "base_uri": "https://localhost:8080/",
          "height": 396
        },
        "outputId": "a2b9785b-0c47-407d-c0c7-933c37b6121a"
      },
      "source": [
        "#Criando um novo data frame com todas as lista criadas\n",
        "time_plot_2_df=pd.DataFrame(list(zip(years, acre_list, alagoas_list, amapa_list, amazonas_list,\n",
        "                                     bahia_list, ceara_list, distrito_list, espirito_list,\n",
        "                                     goias_list, maranhao_list, mato_list, minas_list, para_list,\n",
        "                                     paraiba_list, perna_list, piau_list, rio_list, rondonia_list,\n",
        "                                     roraima_list, santa_list, sao_list, sergipe_list, tocantins_list)),\n",
        "                            columns =['Year', 'Acre', 'Alagoas', 'Amapa', 'Amazonas', 'Bahia', 'Ceara',\n",
        "                                      'Distrito Federal', 'Espirito Santo', 'Goias', 'Maranhao',\n",
        "                                      'Mato Grosso', 'Minas Gerais', 'Pará', 'Paraiba', 'Pernambuco',\n",
        "                                      'Piau', 'Rio', 'Rondonia', 'Roraima', 'Santa Catarina',\n",
        "                                      'Sao Paulo', 'Sergipe', 'Tocantins'])\n",
        "# verificando se deu certo\n",
        "time_plot_2_df.head(10)"
      ],
      "execution_count": 23,
      "outputs": [
        {
          "output_type": "execute_result",
          "data": {
            "text/html": [
              "<div>\n",
              "<style scoped>\n",
              "    .dataframe tbody tr th:only-of-type {\n",
              "        vertical-align: middle;\n",
              "    }\n",
              "\n",
              "    .dataframe tbody tr th {\n",
              "        vertical-align: top;\n",
              "    }\n",
              "\n",
              "    .dataframe thead th {\n",
              "        text-align: right;\n",
              "    }\n",
              "</style>\n",
              "<table border=\"1\" class=\"dataframe\">\n",
              "  <thead>\n",
              "    <tr style=\"text-align: right;\">\n",
              "      <th></th>\n",
              "      <th>Year</th>\n",
              "      <th>Acre</th>\n",
              "      <th>Alagoas</th>\n",
              "      <th>Amapa</th>\n",
              "      <th>Amazonas</th>\n",
              "      <th>Bahia</th>\n",
              "      <th>Ceara</th>\n",
              "      <th>Distrito Federal</th>\n",
              "      <th>Espirito Santo</th>\n",
              "      <th>Goias</th>\n",
              "      <th>Maranhao</th>\n",
              "      <th>Mato Grosso</th>\n",
              "      <th>Minas Gerais</th>\n",
              "      <th>Pará</th>\n",
              "      <th>Paraiba</th>\n",
              "      <th>Pernambuco</th>\n",
              "      <th>Piau</th>\n",
              "      <th>Rio</th>\n",
              "      <th>Rondonia</th>\n",
              "      <th>Roraima</th>\n",
              "      <th>Santa Catarina</th>\n",
              "      <th>Sao Paulo</th>\n",
              "      <th>Sergipe</th>\n",
              "      <th>Tocantins</th>\n",
              "    </tr>\n",
              "  </thead>\n",
              "  <tbody>\n",
              "    <tr>\n",
              "      <th>0</th>\n",
              "      <td>1998</td>\n",
              "      <td>730.0</td>\n",
              "      <td>86.0</td>\n",
              "      <td>278.0</td>\n",
              "      <td>946.0</td>\n",
              "      <td>1225.0</td>\n",
              "      <td>1612.0</td>\n",
              "      <td>103.0</td>\n",
              "      <td>218.0</td>\n",
              "      <td>750.0</td>\n",
              "      <td>366.0</td>\n",
              "      <td>2401.0</td>\n",
              "      <td>1233.0</td>\n",
              "      <td>716.0</td>\n",
              "      <td>816.0</td>\n",
              "      <td>767.0</td>\n",
              "      <td>1494.0</td>\n",
              "      <td>1149.0</td>\n",
              "      <td>916.0</td>\n",
              "      <td>21.0</td>\n",
              "      <td>59.0</td>\n",
              "      <td>3196.0</td>\n",
              "      <td>20.0</td>\n",
              "      <td>913.0</td>\n",
              "    </tr>\n",
              "    <tr>\n",
              "      <th>1</th>\n",
              "      <td>1999</td>\n",
              "      <td>333.0</td>\n",
              "      <td>172.0</td>\n",
              "      <td>101.0</td>\n",
              "      <td>1061.0</td>\n",
              "      <td>1198.0</td>\n",
              "      <td>1688.0</td>\n",
              "      <td>46.0</td>\n",
              "      <td>240.0</td>\n",
              "      <td>1910.0</td>\n",
              "      <td>1276.0</td>\n",
              "      <td>2979.0</td>\n",
              "      <td>997.0</td>\n",
              "      <td>2192.0</td>\n",
              "      <td>3437.0</td>\n",
              "      <td>463.0</td>\n",
              "      <td>2015.0</td>\n",
              "      <td>1030.0</td>\n",
              "      <td>209.0</td>\n",
              "      <td>220.0</td>\n",
              "      <td>364.0</td>\n",
              "      <td>4249.0</td>\n",
              "      <td>93.0</td>\n",
              "      <td>608.0</td>\n",
              "    </tr>\n",
              "    <tr>\n",
              "      <th>2</th>\n",
              "      <td>2000</td>\n",
              "      <td>434.0</td>\n",
              "      <td>123.0</td>\n",
              "      <td>253.0</td>\n",
              "      <td>853.0</td>\n",
              "      <td>1379.0</td>\n",
              "      <td>2211.0</td>\n",
              "      <td>48.0</td>\n",
              "      <td>175.0</td>\n",
              "      <td>2516.0</td>\n",
              "      <td>1244.0</td>\n",
              "      <td>3897.0</td>\n",
              "      <td>1493.0</td>\n",
              "      <td>794.0</td>\n",
              "      <td>2804.0</td>\n",
              "      <td>691.0</td>\n",
              "      <td>1112.0</td>\n",
              "      <td>650.0</td>\n",
              "      <td>868.0</td>\n",
              "      <td>362.0</td>\n",
              "      <td>306.0</td>\n",
              "      <td>4128.0</td>\n",
              "      <td>17.0</td>\n",
              "      <td>994.0</td>\n",
              "    </tr>\n",
              "    <tr>\n",
              "      <th>3</th>\n",
              "      <td>2001</td>\n",
              "      <td>828.0</td>\n",
              "      <td>86.0</td>\n",
              "      <td>1301.0</td>\n",
              "      <td>1297.0</td>\n",
              "      <td>2428.0</td>\n",
              "      <td>1848.0</td>\n",
              "      <td>64.0</td>\n",
              "      <td>130.0</td>\n",
              "      <td>2066.0</td>\n",
              "      <td>720.0</td>\n",
              "      <td>3088.0</td>\n",
              "      <td>2139.0</td>\n",
              "      <td>835.0</td>\n",
              "      <td>2073.0</td>\n",
              "      <td>1080.0</td>\n",
              "      <td>731.0</td>\n",
              "      <td>857.0</td>\n",
              "      <td>1004.0</td>\n",
              "      <td>1309.0</td>\n",
              "      <td>200.0</td>\n",
              "      <td>2926.0</td>\n",
              "      <td>24.0</td>\n",
              "      <td>2039.0</td>\n",
              "    </tr>\n",
              "    <tr>\n",
              "      <th>4</th>\n",
              "      <td>2002</td>\n",
              "      <td>1544.0</td>\n",
              "      <td>258.0</td>\n",
              "      <td>862.0</td>\n",
              "      <td>2852.0</td>\n",
              "      <td>2281.0</td>\n",
              "      <td>454.0</td>\n",
              "      <td>149.0</td>\n",
              "      <td>297.0</td>\n",
              "      <td>1619.0</td>\n",
              "      <td>530.0</td>\n",
              "      <td>3666.0</td>\n",
              "      <td>1950.0</td>\n",
              "      <td>1266.0</td>\n",
              "      <td>2249.0</td>\n",
              "      <td>1909.0</td>\n",
              "      <td>1504.0</td>\n",
              "      <td>2945.0</td>\n",
              "      <td>1452.0</td>\n",
              "      <td>2224.0</td>\n",
              "      <td>1715.0</td>\n",
              "      <td>3539.0</td>\n",
              "      <td>208.0</td>\n",
              "      <td>1919.0</td>\n",
              "    </tr>\n",
              "    <tr>\n",
              "      <th>5</th>\n",
              "      <td>2003</td>\n",
              "      <td>947.0</td>\n",
              "      <td>299.0</td>\n",
              "      <td>1652.0</td>\n",
              "      <td>1524.0</td>\n",
              "      <td>3076.0</td>\n",
              "      <td>796.0</td>\n",
              "      <td>96.0</td>\n",
              "      <td>708.0</td>\n",
              "      <td>2079.0</td>\n",
              "      <td>962.0</td>\n",
              "      <td>6940.0</td>\n",
              "      <td>1824.0</td>\n",
              "      <td>1073.0</td>\n",
              "      <td>2797.0</td>\n",
              "      <td>2431.0</td>\n",
              "      <td>1964.0</td>\n",
              "      <td>3438.0</td>\n",
              "      <td>1465.0</td>\n",
              "      <td>1789.0</td>\n",
              "      <td>1609.0</td>\n",
              "      <td>3306.0</td>\n",
              "      <td>403.0</td>\n",
              "      <td>1582.0</td>\n",
              "    </tr>\n",
              "    <tr>\n",
              "      <th>6</th>\n",
              "      <td>2004</td>\n",
              "      <td>1184.0</td>\n",
              "      <td>159.0</td>\n",
              "      <td>2261.0</td>\n",
              "      <td>2298.0</td>\n",
              "      <td>1644.0</td>\n",
              "      <td>383.0</td>\n",
              "      <td>279.0</td>\n",
              "      <td>174.0</td>\n",
              "      <td>1799.0</td>\n",
              "      <td>1197.0</td>\n",
              "      <td>4811.0</td>\n",
              "      <td>2141.0</td>\n",
              "      <td>1075.0</td>\n",
              "      <td>2761.0</td>\n",
              "      <td>1683.0</td>\n",
              "      <td>1778.0</td>\n",
              "      <td>3437.0</td>\n",
              "      <td>920.0</td>\n",
              "      <td>1457.0</td>\n",
              "      <td>2955.0</td>\n",
              "      <td>2864.0</td>\n",
              "      <td>190.0</td>\n",
              "      <td>1003.0</td>\n",
              "    </tr>\n",
              "    <tr>\n",
              "      <th>7</th>\n",
              "      <td>2005</td>\n",
              "      <td>984.0</td>\n",
              "      <td>217.0</td>\n",
              "      <td>1271.0</td>\n",
              "      <td>1657.0</td>\n",
              "      <td>2358.0</td>\n",
              "      <td>680.0</td>\n",
              "      <td>92.0</td>\n",
              "      <td>121.0</td>\n",
              "      <td>1709.0</td>\n",
              "      <td>1184.0</td>\n",
              "      <td>5387.0</td>\n",
              "      <td>1647.0</td>\n",
              "      <td>501.0</td>\n",
              "      <td>3427.0</td>\n",
              "      <td>1520.0</td>\n",
              "      <td>2211.0</td>\n",
              "      <td>2297.0</td>\n",
              "      <td>1678.0</td>\n",
              "      <td>860.0</td>\n",
              "      <td>1483.0</td>\n",
              "      <td>2123.0</td>\n",
              "      <td>200.0</td>\n",
              "      <td>1398.0</td>\n",
              "    </tr>\n",
              "    <tr>\n",
              "      <th>8</th>\n",
              "      <td>2006</td>\n",
              "      <td>1221.0</td>\n",
              "      <td>161.0</td>\n",
              "      <td>817.0</td>\n",
              "      <td>998.0</td>\n",
              "      <td>2509.0</td>\n",
              "      <td>1109.0</td>\n",
              "      <td>76.0</td>\n",
              "      <td>215.0</td>\n",
              "      <td>1294.0</td>\n",
              "      <td>924.0</td>\n",
              "      <td>4286.0</td>\n",
              "      <td>2464.0</td>\n",
              "      <td>1183.0</td>\n",
              "      <td>3308.0</td>\n",
              "      <td>1268.0</td>\n",
              "      <td>2358.0</td>\n",
              "      <td>2501.0</td>\n",
              "      <td>680.0</td>\n",
              "      <td>1245.0</td>\n",
              "      <td>1855.0</td>\n",
              "      <td>2209.0</td>\n",
              "      <td>147.0</td>\n",
              "      <td>1002.0</td>\n",
              "    </tr>\n",
              "    <tr>\n",
              "      <th>9</th>\n",
              "      <td>2007</td>\n",
              "      <td>1213.0</td>\n",
              "      <td>128.0</td>\n",
              "      <td>440.0</td>\n",
              "      <td>590.0</td>\n",
              "      <td>2210.0</td>\n",
              "      <td>1712.0</td>\n",
              "      <td>274.0</td>\n",
              "      <td>382.0</td>\n",
              "      <td>888.0</td>\n",
              "      <td>1911.0</td>\n",
              "      <td>3516.0</td>\n",
              "      <td>1214.0</td>\n",
              "      <td>1833.0</td>\n",
              "      <td>2665.0</td>\n",
              "      <td>1631.0</td>\n",
              "      <td>2714.0</td>\n",
              "      <td>2067.0</td>\n",
              "      <td>396.0</td>\n",
              "      <td>1863.0</td>\n",
              "      <td>1230.0</td>\n",
              "      <td>1877.0</td>\n",
              "      <td>124.0</td>\n",
              "      <td>2160.0</td>\n",
              "    </tr>\n",
              "  </tbody>\n",
              "</table>\n",
              "</div>"
            ],
            "text/plain": [
              "   Year    Acre  Alagoas   Amapa  ...  Santa Catarina  Sao Paulo  Sergipe  Tocantins\n",
              "0  1998   730.0     86.0   278.0  ...            59.0     3196.0     20.0      913.0\n",
              "1  1999   333.0    172.0   101.0  ...           364.0     4249.0     93.0      608.0\n",
              "2  2000   434.0    123.0   253.0  ...           306.0     4128.0     17.0      994.0\n",
              "3  2001   828.0     86.0  1301.0  ...           200.0     2926.0     24.0     2039.0\n",
              "4  2002  1544.0    258.0   862.0  ...          1715.0     3539.0    208.0     1919.0\n",
              "5  2003   947.0    299.0  1652.0  ...          1609.0     3306.0    403.0     1582.0\n",
              "6  2004  1184.0    159.0  2261.0  ...          2955.0     2864.0    190.0     1003.0\n",
              "7  2005   984.0    217.0  1271.0  ...          1483.0     2123.0    200.0     1398.0\n",
              "8  2006  1221.0    161.0   817.0  ...          1855.0     2209.0    147.0     1002.0\n",
              "9  2007  1213.0    128.0   440.0  ...          1230.0     1877.0    124.0     2160.0\n",
              "\n",
              "[10 rows x 24 columns]"
            ]
          },
          "metadata": {
            "tags": []
          },
          "execution_count": 23
        }
      ]
    },
    {
      "cell_type": "code",
      "metadata": {
        "id": "2Dm1MwmWiis8",
        "colab_type": "code",
        "colab": {
          "base_uri": "https://localhost:8080/",
          "height": 233
        },
        "outputId": "dc3f9d3c-cbc3-4a91-fba3-83f0eb4a7582"
      },
      "source": [
        "#Top 10 estados\n",
        "time_plot_2_df.sum().nlargest(11)"
      ],
      "execution_count": 24,
      "outputs": [
        {
          "output_type": "execute_result",
          "data": {
            "text/plain": [
              "Mato Grosso     96245.0\n",
              "Paraiba         52437.0\n",
              "Sao Paulo       51120.0\n",
              "Rio             45160.0\n",
              "Bahia           44747.0\n",
              "Year            40150.0\n",
              "Piau            37805.0\n",
              "Goias           37694.0\n",
              "Minas Gerais    37475.0\n",
              "Tocantins       33707.0\n",
              "Amazonas        30652.0\n",
              "dtype: float64"
            ]
          },
          "metadata": {
            "tags": []
          },
          "execution_count": 24
        }
      ]
    },
    {
      "cell_type": "code",
      "metadata": {
        "id": "LKNhKcxzi3f7",
        "colab_type": "code",
        "colab": {
          "base_uri": "https://localhost:8080/",
          "height": 359
        },
        "outputId": "e42220c0-88e3-4add-eb41-7a1236949a8d"
      },
      "source": [
        "#criando um data frame para o grafico de barras\n",
        "bar_plot_df=pd.DataFrame(time_plot_2_df.sum().nlargest(11))\n",
        "#resetando os numeros de indx no novo data frame \n",
        "bar_plot_df=bar_plot_df.reset_index()\n",
        "#renomeando as colunas\n",
        "bar_plot_df.rename(columns={'index':'State', 0:'Reported_Fires'}, inplace=True)\n",
        "#removendo as informaçoes de ano\n",
        "bar_plot_df.drop(bar_plot_df[bar_plot_df.State == 'Year'].index, inplace=True)\n",
        "#verificando \n",
        "bar_plot_df"
      ],
      "execution_count": 25,
      "outputs": [
        {
          "output_type": "execute_result",
          "data": {
            "text/html": [
              "<div>\n",
              "<style scoped>\n",
              "    .dataframe tbody tr th:only-of-type {\n",
              "        vertical-align: middle;\n",
              "    }\n",
              "\n",
              "    .dataframe tbody tr th {\n",
              "        vertical-align: top;\n",
              "    }\n",
              "\n",
              "    .dataframe thead th {\n",
              "        text-align: right;\n",
              "    }\n",
              "</style>\n",
              "<table border=\"1\" class=\"dataframe\">\n",
              "  <thead>\n",
              "    <tr style=\"text-align: right;\">\n",
              "      <th></th>\n",
              "      <th>State</th>\n",
              "      <th>Reported_Fires</th>\n",
              "    </tr>\n",
              "  </thead>\n",
              "  <tbody>\n",
              "    <tr>\n",
              "      <th>0</th>\n",
              "      <td>Mato Grosso</td>\n",
              "      <td>96245.0</td>\n",
              "    </tr>\n",
              "    <tr>\n",
              "      <th>1</th>\n",
              "      <td>Paraiba</td>\n",
              "      <td>52437.0</td>\n",
              "    </tr>\n",
              "    <tr>\n",
              "      <th>2</th>\n",
              "      <td>Sao Paulo</td>\n",
              "      <td>51120.0</td>\n",
              "    </tr>\n",
              "    <tr>\n",
              "      <th>3</th>\n",
              "      <td>Rio</td>\n",
              "      <td>45160.0</td>\n",
              "    </tr>\n",
              "    <tr>\n",
              "      <th>4</th>\n",
              "      <td>Bahia</td>\n",
              "      <td>44747.0</td>\n",
              "    </tr>\n",
              "    <tr>\n",
              "      <th>6</th>\n",
              "      <td>Piau</td>\n",
              "      <td>37805.0</td>\n",
              "    </tr>\n",
              "    <tr>\n",
              "      <th>7</th>\n",
              "      <td>Goias</td>\n",
              "      <td>37694.0</td>\n",
              "    </tr>\n",
              "    <tr>\n",
              "      <th>8</th>\n",
              "      <td>Minas Gerais</td>\n",
              "      <td>37475.0</td>\n",
              "    </tr>\n",
              "    <tr>\n",
              "      <th>9</th>\n",
              "      <td>Tocantins</td>\n",
              "      <td>33707.0</td>\n",
              "    </tr>\n",
              "    <tr>\n",
              "      <th>10</th>\n",
              "      <td>Amazonas</td>\n",
              "      <td>30652.0</td>\n",
              "    </tr>\n",
              "  </tbody>\n",
              "</table>\n",
              "</div>"
            ],
            "text/plain": [
              "           State  Reported_Fires\n",
              "0    Mato Grosso         96245.0\n",
              "1        Paraiba         52437.0\n",
              "2      Sao Paulo         51120.0\n",
              "3            Rio         45160.0\n",
              "4          Bahia         44747.0\n",
              "6           Piau         37805.0\n",
              "7          Goias         37694.0\n",
              "8   Minas Gerais         37475.0\n",
              "9      Tocantins         33707.0\n",
              "10      Amazonas         30652.0"
            ]
          },
          "metadata": {
            "tags": []
          },
          "execution_count": 25
        }
      ]
    },
    {
      "cell_type": "code",
      "metadata": {
        "id": "huCWu5rnxEBc",
        "colab_type": "code",
        "colab": {
          "base_uri": "https://localhost:8080/",
          "height": 617
        },
        "outputId": "6ce738bf-ba8a-4410-ade8-b487fadd17b4"
      },
      "source": [
        "#usando a biblioteca \"plotly Scatter \" para plotar nosso grafico\n",
        "bar_plot=px.bar(bar_plot_df, x='State', y='Reported_Fires', color='Reported_Fires',\n",
        "           labels={'Reported_Fires':'InCendios reportados ', 'State':'Estado'}, color_continuous_scale='Reds')\n",
        "#titulo\n",
        "bar_plot.update_layout(xaxis_tickangle=-45, title_text='Top 10 estados em número de incendios reportados')\n",
        "#exibindo o grafico\n",
        "bar_plot.show()"
      ],
      "execution_count": 27,
      "outputs": [
        {
          "output_type": "display_data",
          "data": {
            "text/html": [
              "<html>\n",
              "<head><meta charset=\"utf-8\" /></head>\n",
              "<body>\n",
              "    <div>\n",
              "            <script src=\"https://cdnjs.cloudflare.com/ajax/libs/mathjax/2.7.5/MathJax.js?config=TeX-AMS-MML_SVG\"></script><script type=\"text/javascript\">if (window.MathJax) {MathJax.Hub.Config({SVG: {font: \"STIX-Web\"}});}</script>\n",
              "                <script type=\"text/javascript\">window.PlotlyConfig = {MathJaxConfig: 'local'};</script>\n",
              "        <script src=\"https://cdn.plot.ly/plotly-latest.min.js\"></script>    \n",
              "            <div id=\"d79bf8bf-f60e-4896-87c3-1de30f4c1814\" class=\"plotly-graph-div\" style=\"height:600px; width:100%;\"></div>\n",
              "            <script type=\"text/javascript\">\n",
              "                \n",
              "                    window.PLOTLYENV=window.PLOTLYENV || {};\n",
              "                    \n",
              "                if (document.getElementById(\"d79bf8bf-f60e-4896-87c3-1de30f4c1814\")) {\n",
              "                    Plotly.newPlot(\n",
              "                        'd79bf8bf-f60e-4896-87c3-1de30f4c1814',\n",
              "                        [{\"alignmentgroup\": \"True\", \"hoverlabel\": {\"namelength\": 0}, \"hovertemplate\": \"estados=%{x}<br>indendios reportados =%{marker.color}\", \"legendgroup\": \"\", \"marker\": {\"color\": [96245.0, 52437.0, 51120.0, 45160.0, 44747.0, 37805.0, 37694.0, 37475.0, 33707.0, 30652.0], \"coloraxis\": \"coloraxis\"}, \"name\": \"\", \"offsetgroup\": \"\", \"orientation\": \"v\", \"showlegend\": false, \"textposition\": \"auto\", \"type\": \"bar\", \"x\": [\"Mato Grosso\", \"Paraiba\", \"Sao Paulo\", \"Rio\", \"Bahia\", \"Piau\", \"Goias\", \"Minas Gerais\", \"Tocantins\", \"Amazonas\"], \"xaxis\": \"x\", \"y\": [96245.0, 52437.0, 51120.0, 45160.0, 44747.0, 37805.0, 37694.0, 37475.0, 33707.0, 30652.0], \"yaxis\": \"y\"}],\n",
              "                        {\"barmode\": \"relative\", \"coloraxis\": {\"colorbar\": {\"title\": {\"text\": \"indendios reportados \"}}, \"colorscale\": [[0.0, \"rgb(255,245,240)\"], [0.125, \"rgb(254,224,210)\"], [0.25, \"rgb(252,187,161)\"], [0.375, \"rgb(252,146,114)\"], [0.5, \"rgb(251,106,74)\"], [0.625, \"rgb(239,59,44)\"], [0.75, \"rgb(203,24,29)\"], [0.875, \"rgb(165,15,21)\"], [1.0, \"rgb(103,0,13)\"]]}, \"height\": 600, \"legend\": {\"tracegroupgap\": 0}, \"margin\": {\"t\": 60}, \"template\": {\"data\": {\"bar\": [{\"error_x\": {\"color\": \"#2a3f5f\"}, \"error_y\": {\"color\": \"#2a3f5f\"}, \"marker\": {\"line\": {\"color\": \"#E5ECF6\", \"width\": 0.5}}, \"type\": \"bar\"}], \"barpolar\": [{\"marker\": {\"line\": {\"color\": \"#E5ECF6\", \"width\": 0.5}}, \"type\": \"barpolar\"}], \"carpet\": [{\"aaxis\": {\"endlinecolor\": \"#2a3f5f\", \"gridcolor\": \"white\", \"linecolor\": \"white\", \"minorgridcolor\": \"white\", \"startlinecolor\": \"#2a3f5f\"}, \"baxis\": {\"endlinecolor\": \"#2a3f5f\", \"gridcolor\": \"white\", \"linecolor\": \"white\", \"minorgridcolor\": \"white\", \"startlinecolor\": \"#2a3f5f\"}, \"type\": \"carpet\"}], \"choropleth\": [{\"colorbar\": {\"outlinewidth\": 0, \"ticks\": \"\"}, \"type\": \"choropleth\"}], \"contour\": [{\"colorbar\": {\"outlinewidth\": 0, \"ticks\": \"\"}, \"colorscale\": [[0.0, \"#0d0887\"], [0.1111111111111111, \"#46039f\"], [0.2222222222222222, \"#7201a8\"], [0.3333333333333333, \"#9c179e\"], [0.4444444444444444, \"#bd3786\"], [0.5555555555555556, \"#d8576b\"], [0.6666666666666666, \"#ed7953\"], [0.7777777777777778, \"#fb9f3a\"], [0.8888888888888888, \"#fdca26\"], [1.0, \"#f0f921\"]], \"type\": \"contour\"}], \"contourcarpet\": [{\"colorbar\": {\"outlinewidth\": 0, \"ticks\": \"\"}, \"type\": \"contourcarpet\"}], \"heatmap\": [{\"colorbar\": {\"outlinewidth\": 0, \"ticks\": \"\"}, \"colorscale\": [[0.0, \"#0d0887\"], [0.1111111111111111, \"#46039f\"], [0.2222222222222222, \"#7201a8\"], [0.3333333333333333, \"#9c179e\"], [0.4444444444444444, \"#bd3786\"], [0.5555555555555556, \"#d8576b\"], [0.6666666666666666, \"#ed7953\"], [0.7777777777777778, \"#fb9f3a\"], [0.8888888888888888, \"#fdca26\"], [1.0, \"#f0f921\"]], \"type\": \"heatmap\"}], \"heatmapgl\": [{\"colorbar\": {\"outlinewidth\": 0, \"ticks\": \"\"}, \"colorscale\": [[0.0, \"#0d0887\"], [0.1111111111111111, \"#46039f\"], [0.2222222222222222, \"#7201a8\"], [0.3333333333333333, \"#9c179e\"], [0.4444444444444444, \"#bd3786\"], [0.5555555555555556, \"#d8576b\"], [0.6666666666666666, \"#ed7953\"], [0.7777777777777778, \"#fb9f3a\"], [0.8888888888888888, \"#fdca26\"], [1.0, \"#f0f921\"]], \"type\": \"heatmapgl\"}], \"histogram\": [{\"marker\": {\"colorbar\": {\"outlinewidth\": 0, \"ticks\": \"\"}}, \"type\": \"histogram\"}], \"histogram2d\": [{\"colorbar\": {\"outlinewidth\": 0, \"ticks\": \"\"}, \"colorscale\": [[0.0, \"#0d0887\"], [0.1111111111111111, \"#46039f\"], [0.2222222222222222, \"#7201a8\"], [0.3333333333333333, \"#9c179e\"], [0.4444444444444444, \"#bd3786\"], [0.5555555555555556, \"#d8576b\"], [0.6666666666666666, \"#ed7953\"], [0.7777777777777778, \"#fb9f3a\"], [0.8888888888888888, \"#fdca26\"], [1.0, \"#f0f921\"]], \"type\": \"histogram2d\"}], \"histogram2dcontour\": [{\"colorbar\": {\"outlinewidth\": 0, \"ticks\": \"\"}, \"colorscale\": [[0.0, \"#0d0887\"], [0.1111111111111111, \"#46039f\"], [0.2222222222222222, \"#7201a8\"], [0.3333333333333333, \"#9c179e\"], [0.4444444444444444, \"#bd3786\"], [0.5555555555555556, \"#d8576b\"], [0.6666666666666666, \"#ed7953\"], [0.7777777777777778, \"#fb9f3a\"], [0.8888888888888888, \"#fdca26\"], [1.0, \"#f0f921\"]], \"type\": \"histogram2dcontour\"}], \"mesh3d\": [{\"colorbar\": {\"outlinewidth\": 0, \"ticks\": \"\"}, \"type\": \"mesh3d\"}], \"parcoords\": [{\"line\": {\"colorbar\": {\"outlinewidth\": 0, \"ticks\": \"\"}}, \"type\": \"parcoords\"}], \"scatter\": [{\"marker\": {\"colorbar\": {\"outlinewidth\": 0, \"ticks\": \"\"}}, \"type\": \"scatter\"}], \"scatter3d\": [{\"line\": {\"colorbar\": {\"outlinewidth\": 0, \"ticks\": \"\"}}, \"marker\": {\"colorbar\": {\"outlinewidth\": 0, \"ticks\": \"\"}}, \"type\": \"scatter3d\"}], \"scattercarpet\": [{\"marker\": {\"colorbar\": {\"outlinewidth\": 0, \"ticks\": \"\"}}, \"type\": \"scattercarpet\"}], \"scattergeo\": [{\"marker\": {\"colorbar\": {\"outlinewidth\": 0, \"ticks\": \"\"}}, \"type\": \"scattergeo\"}], \"scattergl\": [{\"marker\": {\"colorbar\": {\"outlinewidth\": 0, \"ticks\": \"\"}}, \"type\": \"scattergl\"}], \"scattermapbox\": [{\"marker\": {\"colorbar\": {\"outlinewidth\": 0, \"ticks\": \"\"}}, \"type\": \"scattermapbox\"}], \"scatterpolar\": [{\"marker\": {\"colorbar\": {\"outlinewidth\": 0, \"ticks\": \"\"}}, \"type\": \"scatterpolar\"}], \"scatterpolargl\": [{\"marker\": {\"colorbar\": {\"outlinewidth\": 0, \"ticks\": \"\"}}, \"type\": \"scatterpolargl\"}], \"scatterternary\": [{\"marker\": {\"colorbar\": {\"outlinewidth\": 0, \"ticks\": \"\"}}, \"type\": \"scatterternary\"}], \"surface\": [{\"colorbar\": {\"outlinewidth\": 0, \"ticks\": \"\"}, \"colorscale\": [[0.0, \"#0d0887\"], [0.1111111111111111, \"#46039f\"], [0.2222222222222222, \"#7201a8\"], [0.3333333333333333, \"#9c179e\"], [0.4444444444444444, \"#bd3786\"], [0.5555555555555556, \"#d8576b\"], [0.6666666666666666, \"#ed7953\"], [0.7777777777777778, \"#fb9f3a\"], [0.8888888888888888, \"#fdca26\"], [1.0, \"#f0f921\"]], \"type\": \"surface\"}], \"table\": [{\"cells\": {\"fill\": {\"color\": \"#EBF0F8\"}, \"line\": {\"color\": \"white\"}}, \"header\": {\"fill\": {\"color\": \"#C8D4E3\"}, \"line\": {\"color\": \"white\"}}, \"type\": \"table\"}]}, \"layout\": {\"annotationdefaults\": {\"arrowcolor\": \"#2a3f5f\", \"arrowhead\": 0, \"arrowwidth\": 1}, \"colorscale\": {\"diverging\": [[0, \"#8e0152\"], [0.1, \"#c51b7d\"], [0.2, \"#de77ae\"], [0.3, \"#f1b6da\"], [0.4, \"#fde0ef\"], [0.5, \"#f7f7f7\"], [0.6, \"#e6f5d0\"], [0.7, \"#b8e186\"], [0.8, \"#7fbc41\"], [0.9, \"#4d9221\"], [1, \"#276419\"]], \"sequential\": [[0.0, \"#0d0887\"], [0.1111111111111111, \"#46039f\"], [0.2222222222222222, \"#7201a8\"], [0.3333333333333333, \"#9c179e\"], [0.4444444444444444, \"#bd3786\"], [0.5555555555555556, \"#d8576b\"], [0.6666666666666666, \"#ed7953\"], [0.7777777777777778, \"#fb9f3a\"], [0.8888888888888888, \"#fdca26\"], [1.0, \"#f0f921\"]], \"sequentialminus\": [[0.0, \"#0d0887\"], [0.1111111111111111, \"#46039f\"], [0.2222222222222222, \"#7201a8\"], [0.3333333333333333, \"#9c179e\"], [0.4444444444444444, \"#bd3786\"], [0.5555555555555556, \"#d8576b\"], [0.6666666666666666, \"#ed7953\"], [0.7777777777777778, \"#fb9f3a\"], [0.8888888888888888, \"#fdca26\"], [1.0, \"#f0f921\"]]}, \"colorway\": [\"#636efa\", \"#EF553B\", \"#00cc96\", \"#ab63fa\", \"#FFA15A\", \"#19d3f3\", \"#FF6692\", \"#B6E880\", \"#FF97FF\", \"#FECB52\"], \"font\": {\"color\": \"#2a3f5f\"}, \"geo\": {\"bgcolor\": \"white\", \"lakecolor\": \"white\", \"landcolor\": \"#E5ECF6\", \"showlakes\": true, \"showland\": true, \"subunitcolor\": \"white\"}, \"hoverlabel\": {\"align\": \"left\"}, \"hovermode\": \"closest\", \"mapbox\": {\"style\": \"light\"}, \"paper_bgcolor\": \"white\", \"plot_bgcolor\": \"#E5ECF6\", \"polar\": {\"angularaxis\": {\"gridcolor\": \"white\", \"linecolor\": \"white\", \"ticks\": \"\"}, \"bgcolor\": \"#E5ECF6\", \"radialaxis\": {\"gridcolor\": \"white\", \"linecolor\": \"white\", \"ticks\": \"\"}}, \"scene\": {\"xaxis\": {\"backgroundcolor\": \"#E5ECF6\", \"gridcolor\": \"white\", \"gridwidth\": 2, \"linecolor\": \"white\", \"showbackground\": true, \"ticks\": \"\", \"zerolinecolor\": \"white\"}, \"yaxis\": {\"backgroundcolor\": \"#E5ECF6\", \"gridcolor\": \"white\", \"gridwidth\": 2, \"linecolor\": \"white\", \"showbackground\": true, \"ticks\": \"\", \"zerolinecolor\": \"white\"}, \"zaxis\": {\"backgroundcolor\": \"#E5ECF6\", \"gridcolor\": \"white\", \"gridwidth\": 2, \"linecolor\": \"white\", \"showbackground\": true, \"ticks\": \"\", \"zerolinecolor\": \"white\"}}, \"shapedefaults\": {\"line\": {\"color\": \"#2a3f5f\"}}, \"ternary\": {\"aaxis\": {\"gridcolor\": \"white\", \"linecolor\": \"white\", \"ticks\": \"\"}, \"baxis\": {\"gridcolor\": \"white\", \"linecolor\": \"white\", \"ticks\": \"\"}, \"bgcolor\": \"#E5ECF6\", \"caxis\": {\"gridcolor\": \"white\", \"linecolor\": \"white\", \"ticks\": \"\"}}, \"title\": {\"x\": 0.05}, \"xaxis\": {\"automargin\": true, \"gridcolor\": \"white\", \"linecolor\": \"white\", \"ticks\": \"\", \"zerolinecolor\": \"white\", \"zerolinewidth\": 2}, \"yaxis\": {\"automargin\": true, \"gridcolor\": \"white\", \"linecolor\": \"white\", \"ticks\": \"\", \"zerolinecolor\": \"white\", \"zerolinewidth\": 2}}}, \"title\": {\"text\": \"top 10 estados em numero de incendios reportados\"}, \"xaxis\": {\"anchor\": \"y\", \"domain\": [0.0, 0.98], \"tickangle\": -45, \"title\": {\"text\": \"estados\"}}, \"yaxis\": {\"anchor\": \"x\", \"domain\": [0.0, 1.0], \"title\": {\"text\": \"indendios reportados \"}}},\n",
              "                        {\"responsive\": true}\n",
              "                    ).then(function(){\n",
              "                            \n",
              "var gd = document.getElementById('d79bf8bf-f60e-4896-87c3-1de30f4c1814');\n",
              "var x = new MutationObserver(function (mutations, observer) {{\n",
              "        var display = window.getComputedStyle(gd).display;\n",
              "        if (!display || display === 'none') {{\n",
              "            console.log([gd, 'removed!']);\n",
              "            Plotly.purge(gd);\n",
              "            observer.disconnect();\n",
              "        }}\n",
              "}});\n",
              "\n",
              "// Listen for the removal of the full notebook cells\n",
              "var notebookContainer = gd.closest('#notebook-container');\n",
              "if (notebookContainer) {{\n",
              "    x.observe(notebookContainer, {childList: true});\n",
              "}}\n",
              "\n",
              "// Listen for the clearing of the current output cell\n",
              "var outputEl = gd.closest('.output');\n",
              "if (outputEl) {{\n",
              "    x.observe(outputEl, {childList: true});\n",
              "}}\n",
              "\n",
              "                        })\n",
              "                };\n",
              "                \n",
              "            </script>\n",
              "        </div>\n",
              "</body>\n",
              "</html>"
            ]
          },
          "metadata": {
            "tags": []
          }
        }
      ]
    },
    {
      "cell_type": "code",
      "metadata": {
        "id": "I0eIxaCU-1si",
        "colab_type": "code",
        "colab": {}
      },
      "source": [
        "#criando um dicionarios de latitude e longitude dos estados para criar o mapa\n",
        "latitude={'Acre':-9.02,'Alagoas':-9.57,'Amapa':02.05,'Amazonas':-5.00,'Bahia':-12.00,'Ceara':-5.00,\n",
        "          \n",
        "          'Distrito Federal':-15.45,'Espirito Santo':-20.00,'Goias':-15.55,'Maranhao':-5.00,'Mato Grosso':-14.00\n",
        "          \n",
        "          ,'Minas Gerais':-18.50,'Pará':-3.20,'Paraiba':-7.00,'Pernambuco':-8.00,'Piau':-7.00,'Rio':-22.90,\n",
        "          \n",
        "          'Rondonia':-11.00,'Roraima':-2.00,'Santa Catarina':-27.25,'Sao Paulo':-23.32,'Sergipe':-10.30,\n",
        "         \n",
        "         'Tocantins':-10.00\n",
        "         }\n",
        "\n",
        "\n",
        "longitude={\n",
        "    'Acre':-70.8120,'Alagoas':-36.7820,'Amapa':-50.50,'Amazonas':-65.00,'Bahia':-42.00,'Ceara':-40.00,\n",
        "    \n",
        "    'Distrito Federal':-47.45,'Espirito Santo':-40.45,'Goias':-50.10,'Maranhao':-46.00,'Mato Grosso':-55.00,\n",
        "    \n",
        "    'Minas Gerais':-46.00,'Pará':-52.00,'Paraiba':-36.00,'Pernambuco':-37.00,'Piau':-73.00, 'Rio':-43.17,\n",
        "    \n",
        "    'Rondonia':-63.00,'Roraima':-61.30,'Santa Catarina':-48.30,'Sao Paulo':-46.37,'Sergipe':-37.30,\n",
        "    \n",
        "    'Tocantins':-48.00\n",
        "}"
      ],
      "execution_count": 0,
      "outputs": []
    },
    {
      "cell_type": "code",
      "metadata": {
        "id": "dgdoCVYq_Qz8",
        "colab_type": "code",
        "colab": {
          "base_uri": "https://localhost:8080/",
          "height": 419
        },
        "outputId": "998b120a-93e2-4555-c8be-d053ce755807"
      },
      "source": [
        "#adicionando as coluans de latirude e longitude no dataFrame original(carregar novamete o bloco 1)\n",
        "amazon_df['latitude']=amazon_df['state'].map(latitude)\n",
        "amazon_df['longitude']=amazon_df['state'].map(longitude)\n",
        "amazon_df"
      ],
      "execution_count": 38,
      "outputs": [
        {
          "output_type": "execute_result",
          "data": {
            "text/html": [
              "<div>\n",
              "<style scoped>\n",
              "    .dataframe tbody tr th:only-of-type {\n",
              "        vertical-align: middle;\n",
              "    }\n",
              "\n",
              "    .dataframe tbody tr th {\n",
              "        vertical-align: top;\n",
              "    }\n",
              "\n",
              "    .dataframe thead th {\n",
              "        text-align: right;\n",
              "    }\n",
              "</style>\n",
              "<table border=\"1\" class=\"dataframe\">\n",
              "  <thead>\n",
              "    <tr style=\"text-align: right;\">\n",
              "      <th></th>\n",
              "      <th>year</th>\n",
              "      <th>state</th>\n",
              "      <th>month</th>\n",
              "      <th>number</th>\n",
              "      <th>date</th>\n",
              "      <th>latitude</th>\n",
              "      <th>longitude</th>\n",
              "    </tr>\n",
              "  </thead>\n",
              "  <tbody>\n",
              "    <tr>\n",
              "      <th>0</th>\n",
              "      <td>1998</td>\n",
              "      <td>Acre</td>\n",
              "      <td>Janeiro</td>\n",
              "      <td>0.0</td>\n",
              "      <td>1998-01-01</td>\n",
              "      <td>-9.02</td>\n",
              "      <td>-70.812</td>\n",
              "    </tr>\n",
              "    <tr>\n",
              "      <th>1</th>\n",
              "      <td>1999</td>\n",
              "      <td>Acre</td>\n",
              "      <td>Janeiro</td>\n",
              "      <td>0.0</td>\n",
              "      <td>1999-01-01</td>\n",
              "      <td>-9.02</td>\n",
              "      <td>-70.812</td>\n",
              "    </tr>\n",
              "    <tr>\n",
              "      <th>2</th>\n",
              "      <td>2000</td>\n",
              "      <td>Acre</td>\n",
              "      <td>Janeiro</td>\n",
              "      <td>0.0</td>\n",
              "      <td>2000-01-01</td>\n",
              "      <td>-9.02</td>\n",
              "      <td>-70.812</td>\n",
              "    </tr>\n",
              "    <tr>\n",
              "      <th>3</th>\n",
              "      <td>2001</td>\n",
              "      <td>Acre</td>\n",
              "      <td>Janeiro</td>\n",
              "      <td>0.0</td>\n",
              "      <td>2001-01-01</td>\n",
              "      <td>-9.02</td>\n",
              "      <td>-70.812</td>\n",
              "    </tr>\n",
              "    <tr>\n",
              "      <th>4</th>\n",
              "      <td>2002</td>\n",
              "      <td>Acre</td>\n",
              "      <td>Janeiro</td>\n",
              "      <td>0.0</td>\n",
              "      <td>2002-01-01</td>\n",
              "      <td>-9.02</td>\n",
              "      <td>-70.812</td>\n",
              "    </tr>\n",
              "    <tr>\n",
              "      <th>...</th>\n",
              "      <td>...</td>\n",
              "      <td>...</td>\n",
              "      <td>...</td>\n",
              "      <td>...</td>\n",
              "      <td>...</td>\n",
              "      <td>...</td>\n",
              "      <td>...</td>\n",
              "    </tr>\n",
              "    <tr>\n",
              "      <th>6449</th>\n",
              "      <td>2012</td>\n",
              "      <td>Tocantins</td>\n",
              "      <td>Dezembro</td>\n",
              "      <td>128.0</td>\n",
              "      <td>2012-01-01</td>\n",
              "      <td>-10.00</td>\n",
              "      <td>-48.000</td>\n",
              "    </tr>\n",
              "    <tr>\n",
              "      <th>6450</th>\n",
              "      <td>2013</td>\n",
              "      <td>Tocantins</td>\n",
              "      <td>Dezembro</td>\n",
              "      <td>85.0</td>\n",
              "      <td>2013-01-01</td>\n",
              "      <td>-10.00</td>\n",
              "      <td>-48.000</td>\n",
              "    </tr>\n",
              "    <tr>\n",
              "      <th>6451</th>\n",
              "      <td>2014</td>\n",
              "      <td>Tocantins</td>\n",
              "      <td>Dezembro</td>\n",
              "      <td>223.0</td>\n",
              "      <td>2014-01-01</td>\n",
              "      <td>-10.00</td>\n",
              "      <td>-48.000</td>\n",
              "    </tr>\n",
              "    <tr>\n",
              "      <th>6452</th>\n",
              "      <td>2015</td>\n",
              "      <td>Tocantins</td>\n",
              "      <td>Dezembro</td>\n",
              "      <td>373.0</td>\n",
              "      <td>2015-01-01</td>\n",
              "      <td>-10.00</td>\n",
              "      <td>-48.000</td>\n",
              "    </tr>\n",
              "    <tr>\n",
              "      <th>6453</th>\n",
              "      <td>2016</td>\n",
              "      <td>Tocantins</td>\n",
              "      <td>Dezembro</td>\n",
              "      <td>119.0</td>\n",
              "      <td>2016-01-01</td>\n",
              "      <td>-10.00</td>\n",
              "      <td>-48.000</td>\n",
              "    </tr>\n",
              "  </tbody>\n",
              "</table>\n",
              "<p>6454 rows × 7 columns</p>\n",
              "</div>"
            ],
            "text/plain": [
              "      year      state     month  number        date  latitude  longitude\n",
              "0     1998       Acre   Janeiro     0.0  1998-01-01     -9.02    -70.812\n",
              "1     1999       Acre   Janeiro     0.0  1999-01-01     -9.02    -70.812\n",
              "2     2000       Acre   Janeiro     0.0  2000-01-01     -9.02    -70.812\n",
              "3     2001       Acre   Janeiro     0.0  2001-01-01     -9.02    -70.812\n",
              "4     2002       Acre   Janeiro     0.0  2002-01-01     -9.02    -70.812\n",
              "...    ...        ...       ...     ...         ...       ...        ...\n",
              "6449  2012  Tocantins  Dezembro   128.0  2012-01-01    -10.00    -48.000\n",
              "6450  2013  Tocantins  Dezembro    85.0  2013-01-01    -10.00    -48.000\n",
              "6451  2014  Tocantins  Dezembro   223.0  2014-01-01    -10.00    -48.000\n",
              "6452  2015  Tocantins  Dezembro   373.0  2015-01-01    -10.00    -48.000\n",
              "6453  2016  Tocantins  Dezembro   119.0  2016-01-01    -10.00    -48.000\n",
              "\n",
              "[6454 rows x 7 columns]"
            ]
          },
          "metadata": {
            "tags": []
          },
          "execution_count": 38
        }
      ]
    },
    {
      "cell_type": "code",
      "metadata": {
        "id": "Do-rOtPfA2ih",
        "colab_type": "code",
        "colab": {
          "base_uri": "https://localhost:8080/",
          "height": 610
        },
        "outputId": "02aa8836-e68a-4009-ba23-deceea345c07"
      },
      "source": [
        "#criando o mapa\n",
        "\n",
        "fire_file_gpd=gpd.GeoDataFrame(amazon_df,geometry=gpd.points_from_xy(amazon_df['longitude'],amazon_df['latitude']))\n",
        "fire_file_gpd.crs={'init':'epsg:4326'}\n",
        "\n",
        "world = gpd.read_file(gpd.datasets.get_path('naturalearth_lowres'))\n",
        "americas = world.loc[world['continent'].isin([ 'South America'])]\n",
        "americas=americas.loc[americas['name']=='Brazil']\n",
        "\n",
        "ax = americas.plot(figsize=(10,10), color='white', linestyle=':', edgecolor='gray')\n",
        "fire_file_gpd.plot(ax=ax, markersize=50,color='red')"
      ],
      "execution_count": 39,
      "outputs": [
        {
          "output_type": "execute_result",
          "data": {
            "text/plain": [
              "<matplotlib.axes._subplots.AxesSubplot at 0x7f524e3f7b00>"
            ]
          },
          "metadata": {
            "tags": []
          },
          "execution_count": 39
        },
        {
          "output_type": "display_data",
          "data": {
            "image/png": "[encoded data removed]",
            "text/plain": [
              "<Figure size 720x720 with 1 Axes>"
            ]
          },
          "metadata": {
            "tags": []
          }
        }
      ]
    }
  ]
}